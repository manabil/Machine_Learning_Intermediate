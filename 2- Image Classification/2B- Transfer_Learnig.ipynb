{
  "cells": [
    {
      "cell_type": "markdown",
      "metadata": {
        "id": "view-in-github",
        "colab_type": "text"
      },
      "source": [
        "<a href=\"https://colab.research.google.com/github/manabil/Machine_Learning_Intermediate/blob/main/2-%20Image%20Classification/2B-%20Transfer_Learnig.ipynb\" target=\"_parent\"><img src=\"https://colab.research.google.com/assets/colab-badge.svg\" alt=\"Open In Colab\"/></a>"
      ]
    },
    {
      "cell_type": "code",
      "execution_count": 1,
      "metadata": {
        "colab": {
          "base_uri": "https://localhost:8080/"
        },
        "id": "WM5tFmV0Nu6n",
        "outputId": "70d8affc-07fa-4b2e-e213-b40801159bf8"
      },
      "outputs": [
        {
          "output_type": "stream",
          "name": "stdout",
          "text": [
            "--2022-08-30 07:03:26--  https://github.com/dicodingacademy/assets/raw/main/ml_pengembangan_academy/Chessman-image-dataset.zip\n",
            "Resolving github.com (github.com)... 140.82.114.3\n",
            "Connecting to github.com (github.com)|140.82.114.3|:443... connected.\n",
            "HTTP request sent, awaiting response... 302 Found\n",
            "Location: https://raw.githubusercontent.com/dicodingacademy/assets/main/ml_pengembangan_academy/Chessman-image-dataset.zip [following]\n",
            "--2022-08-30 07:03:26--  https://raw.githubusercontent.com/dicodingacademy/assets/main/ml_pengembangan_academy/Chessman-image-dataset.zip\n",
            "Resolving raw.githubusercontent.com (raw.githubusercontent.com)... 185.199.110.133, 185.199.108.133, 185.199.109.133, ...\n",
            "Connecting to raw.githubusercontent.com (raw.githubusercontent.com)|185.199.110.133|:443... connected.\n",
            "HTTP request sent, awaiting response... 200 OK\n",
            "Length: 60684125 (58M) [application/zip]\n",
            "Saving to: ‘/tmp/Chessman-image-dataset.zip’\n",
            "\n",
            "/tmp/Chessman-image 100%[===================>]  57.87M   219MB/s    in 0.3s    \n",
            "\n",
            "2022-08-30 07:03:27 (219 MB/s) - ‘/tmp/Chessman-image-dataset.zip’ saved [60684125/60684125]\n",
            "\n"
          ]
        }
      ],
      "source": [
        "!wget --no-check-certificate \\\n",
        "    https://github.com/dicodingacademy/assets/raw/main/ml_pengembangan_academy/Chessman-image-dataset.zip \\\n",
        "    -O /tmp/Chessman-image-dataset.zip"
      ]
    },
    {
      "cell_type": "code",
      "execution_count": 2,
      "metadata": {
        "id": "74prwurLOBNy"
      },
      "outputs": [],
      "source": [
        "import os\n",
        "import zipfile\n",
        "from tensorflow.keras.preprocessing.image import ImageDataGenerator\n",
        "local_zip = '/tmp/Chessman-image-dataset.zip'\n",
        "zip_ref = zipfile.ZipFile(local_zip, 'r')\n",
        "zip_ref.extractall('/tmp')\n",
        "zip_ref.close()\n",
        "train_dir = os.path.join('/tmp/Chessman-image-dataset/Chess')\n",
        "train_datagen = ImageDataGenerator(rescale=1./255,\n",
        "    rotation_range=20,\n",
        "    zoom_range=0.2,\n",
        "    shear_range=0.2,\n",
        "    fill_mode = 'nearest',\n",
        "    validation_split=0.1) # set validation split"
      ]
    },
    {
      "cell_type": "code",
      "execution_count": 3,
      "metadata": {
        "colab": {
          "base_uri": "https://localhost:8080/"
        },
        "id": "TEru6MX1ORN-",
        "outputId": "4986b5a9-4b9d-489b-91a1-438eeb4ef150"
      },
      "outputs": [
        {
          "output_type": "stream",
          "name": "stdout",
          "text": [
            "Found 499 images belonging to 6 classes.\n",
            "Found 52 images belonging to 6 classes.\n"
          ]
        }
      ],
      "source": [
        "train_generator = train_datagen.flow_from_directory(\n",
        "    train_dir,\n",
        "    target_size=(150, 150),\n",
        "    batch_size=8,\n",
        "    class_mode='categorical',\n",
        "    subset='training') # set as training data\n",
        "validation_generator = train_datagen.flow_from_directory(\n",
        "    train_dir, # same directory as training data\n",
        "    target_size=(150, 150),\n",
        "    batch_size=16,\n",
        "    class_mode='categorical',\n",
        "    subset='validation')"
      ]
    },
    {
      "cell_type": "code",
      "execution_count": 4,
      "metadata": {
        "colab": {
          "base_uri": "https://localhost:8080/"
        },
        "id": "nR3tBSTROvu6",
        "outputId": "0371358b-87a0-43cb-a907-5955ad4b0005"
      },
      "outputs": [
        {
          "output_type": "stream",
          "name": "stdout",
          "text": [
            "Downloading data from https://storage.googleapis.com/tensorflow/keras-applications/resnet/resnet152v2_weights_tf_dim_ordering_tf_kernels_notop.h5\n",
            "234553344/234545216 [==============================] - 2s 0us/step\n",
            "234561536/234545216 [==============================] - 2s 0us/step\n"
          ]
        }
      ],
      "source": [
        "import tensorflow as tf\n",
        "from tensorflow.keras.layers import Input\n",
        "from tensorflow.keras.applications import ResNet50\n",
        "from tensorflow.keras.applications import ResNet152V2\n",
        "model = tf.keras.models.Sequential([\n",
        "    ResNet152V2(weights=\"imagenet\", include_top=False, input_tensor=Input(shape=(150, 150, 3))),\n",
        "    # tf.keras.layers.Dropout(0.4),\n",
        "    tf.keras.layers.Flatten(), \n",
        "    tf.keras.layers.Dense(512, activation='relu'),\n",
        "    tf.keras.layers.Dense(256, activation='relu'),\n",
        "    tf.keras.layers.Dense(6, activation='softmax')  \n",
        "])\n",
        "model.layers[0].trainable = False"
      ]
    },
    {
      "cell_type": "code",
      "execution_count": 5,
      "metadata": {
        "id": "Fds0qO65Oxzu"
      },
      "outputs": [],
      "source": [
        "model.compile(optimizer=tf.optimizers.Adam(),\n",
        "                loss='categorical_crossentropy',\n",
        "                metrics = ['accuracy'])"
      ]
    },
    {
      "cell_type": "code",
      "execution_count": 6,
      "metadata": {
        "colab": {
          "base_uri": "https://localhost:8080/"
        },
        "id": "cAR_twqCO64b",
        "outputId": "957a532e-2537-44de-d1e9-4c6e755525b0"
      },
      "outputs": [
        {
          "output_type": "stream",
          "name": "stdout",
          "text": [
            "Epoch 1/50\n",
            "63/63 - 34s - loss: 8.0061 - accuracy: 0.4469 - val_loss: 6.1648 - val_accuracy: 0.4808 - 34s/epoch - 541ms/step\n",
            "Epoch 2/50\n",
            "63/63 - 11s - loss: 1.8068 - accuracy: 0.6653 - val_loss: 2.0256 - val_accuracy: 0.6538 - 11s/epoch - 173ms/step\n",
            "Epoch 3/50\n",
            "63/63 - 11s - loss: 1.2857 - accuracy: 0.7255 - val_loss: 1.8187 - val_accuracy: 0.6731 - 11s/epoch - 176ms/step\n",
            "Epoch 4/50\n",
            "63/63 - 11s - loss: 1.0102 - accuracy: 0.8096 - val_loss: 1.1860 - val_accuracy: 0.7115 - 11s/epoch - 172ms/step\n",
            "Epoch 5/50\n",
            "63/63 - 11s - loss: 1.2933 - accuracy: 0.7615 - val_loss: 2.5172 - val_accuracy: 0.5769 - 11s/epoch - 172ms/step\n",
            "Epoch 6/50\n",
            "63/63 - 12s - loss: 0.6929 - accuracy: 0.8357 - val_loss: 1.1698 - val_accuracy: 0.7115 - 12s/epoch - 188ms/step\n",
            "Epoch 7/50\n",
            "63/63 - 11s - loss: 0.5079 - accuracy: 0.8457 - val_loss: 1.0410 - val_accuracy: 0.7308 - 11s/epoch - 174ms/step\n",
            "Epoch 8/50\n",
            "63/63 - 11s - loss: 0.3597 - accuracy: 0.9038 - val_loss: 0.7724 - val_accuracy: 0.7115 - 11s/epoch - 172ms/step\n",
            "Epoch 9/50\n",
            "63/63 - 11s - loss: 0.3939 - accuracy: 0.8898 - val_loss: 0.5531 - val_accuracy: 0.7885 - 11s/epoch - 172ms/step\n",
            "Epoch 10/50\n",
            "63/63 - 11s - loss: 0.4317 - accuracy: 0.8978 - val_loss: 1.6287 - val_accuracy: 0.7500 - 11s/epoch - 172ms/step\n",
            "Epoch 11/50\n",
            "63/63 - 11s - loss: 0.3029 - accuracy: 0.8918 - val_loss: 0.7102 - val_accuracy: 0.8077 - 11s/epoch - 175ms/step\n",
            "Epoch 12/50\n",
            "63/63 - 11s - loss: 0.4674 - accuracy: 0.8918 - val_loss: 0.9884 - val_accuracy: 0.8269 - 11s/epoch - 175ms/step\n",
            "Epoch 13/50\n",
            "63/63 - 11s - loss: 0.3147 - accuracy: 0.9138 - val_loss: 1.9811 - val_accuracy: 0.6346 - 11s/epoch - 177ms/step\n",
            "Epoch 14/50\n",
            "63/63 - 11s - loss: 0.3100 - accuracy: 0.9238 - val_loss: 0.6534 - val_accuracy: 0.8077 - 11s/epoch - 173ms/step\n",
            "Epoch 15/50\n",
            "63/63 - 11s - loss: 0.2533 - accuracy: 0.9339 - val_loss: 1.0365 - val_accuracy: 0.8077 - 11s/epoch - 173ms/step\n",
            "Epoch 16/50\n",
            "63/63 - 11s - loss: 0.3038 - accuracy: 0.9098 - val_loss: 0.9402 - val_accuracy: 0.8654 - 11s/epoch - 173ms/step\n",
            "Epoch 17/50\n",
            "63/63 - 11s - loss: 0.3266 - accuracy: 0.9178 - val_loss: 1.1520 - val_accuracy: 0.7500 - 11s/epoch - 177ms/step\n",
            "Epoch 18/50\n",
            "63/63 - 11s - loss: 0.3288 - accuracy: 0.9018 - val_loss: 1.7612 - val_accuracy: 0.6731 - 11s/epoch - 172ms/step\n",
            "Epoch 19/50\n",
            "63/63 - 11s - loss: 0.5829 - accuracy: 0.8858 - val_loss: 0.9510 - val_accuracy: 0.6923 - 11s/epoch - 172ms/step\n",
            "Epoch 20/50\n",
            "63/63 - 11s - loss: 0.2830 - accuracy: 0.9339 - val_loss: 0.8708 - val_accuracy: 0.7500 - 11s/epoch - 173ms/step\n",
            "Epoch 21/50\n",
            "63/63 - 11s - loss: 0.1618 - accuracy: 0.9519 - val_loss: 0.9046 - val_accuracy: 0.8269 - 11s/epoch - 172ms/step\n",
            "Epoch 22/50\n",
            "63/63 - 11s - loss: 0.3250 - accuracy: 0.9359 - val_loss: 1.7452 - val_accuracy: 0.7308 - 11s/epoch - 172ms/step\n",
            "Epoch 23/50\n",
            "63/63 - 11s - loss: 0.4097 - accuracy: 0.9098 - val_loss: 1.2361 - val_accuracy: 0.7115 - 11s/epoch - 173ms/step\n",
            "Epoch 24/50\n",
            "63/63 - 11s - loss: 0.3871 - accuracy: 0.9299 - val_loss: 2.1977 - val_accuracy: 0.6923 - 11s/epoch - 173ms/step\n",
            "Epoch 25/50\n",
            "63/63 - 11s - loss: 0.2898 - accuracy: 0.9218 - val_loss: 0.7989 - val_accuracy: 0.7692 - 11s/epoch - 171ms/step\n",
            "Epoch 26/50\n",
            "63/63 - 11s - loss: 0.1454 - accuracy: 0.9659 - val_loss: 0.4918 - val_accuracy: 0.8654 - 11s/epoch - 172ms/step\n",
            "Epoch 27/50\n",
            "63/63 - 11s - loss: 0.2317 - accuracy: 0.9479 - val_loss: 0.5731 - val_accuracy: 0.8462 - 11s/epoch - 173ms/step\n",
            "Epoch 28/50\n",
            "63/63 - 12s - loss: 0.3356 - accuracy: 0.9359 - val_loss: 0.7989 - val_accuracy: 0.8462 - 12s/epoch - 186ms/step\n",
            "Epoch 29/50\n",
            "63/63 - 11s - loss: 0.1819 - accuracy: 0.9579 - val_loss: 1.8455 - val_accuracy: 0.6731 - 11s/epoch - 172ms/step\n",
            "Epoch 30/50\n",
            "63/63 - 11s - loss: 0.1425 - accuracy: 0.9559 - val_loss: 1.0136 - val_accuracy: 0.7692 - 11s/epoch - 171ms/step\n",
            "Epoch 31/50\n",
            "63/63 - 11s - loss: 0.2753 - accuracy: 0.9419 - val_loss: 1.6141 - val_accuracy: 0.7308 - 11s/epoch - 171ms/step\n",
            "Epoch 32/50\n",
            "63/63 - 11s - loss: 0.2365 - accuracy: 0.9359 - val_loss: 1.1050 - val_accuracy: 0.7692 - 11s/epoch - 171ms/step\n",
            "Epoch 33/50\n",
            "63/63 - 11s - loss: 0.2284 - accuracy: 0.9459 - val_loss: 0.9917 - val_accuracy: 0.8077 - 11s/epoch - 172ms/step\n",
            "Epoch 34/50\n",
            "63/63 - 11s - loss: 0.1111 - accuracy: 0.9679 - val_loss: 0.9410 - val_accuracy: 0.7885 - 11s/epoch - 174ms/step\n",
            "Epoch 35/50\n",
            "63/63 - 11s - loss: 0.1197 - accuracy: 0.9739 - val_loss: 0.8981 - val_accuracy: 0.8462 - 11s/epoch - 173ms/step\n",
            "Epoch 36/50\n",
            "63/63 - 11s - loss: 0.1661 - accuracy: 0.9599 - val_loss: 0.9639 - val_accuracy: 0.7885 - 11s/epoch - 172ms/step\n",
            "Epoch 37/50\n",
            "63/63 - 11s - loss: 0.1355 - accuracy: 0.9760 - val_loss: 1.4756 - val_accuracy: 0.7692 - 11s/epoch - 173ms/step\n",
            "Epoch 38/50\n",
            "63/63 - 11s - loss: 0.2492 - accuracy: 0.9639 - val_loss: 1.2318 - val_accuracy: 0.7692 - 11s/epoch - 171ms/step\n",
            "Epoch 39/50\n",
            "63/63 - 11s - loss: 0.3359 - accuracy: 0.9519 - val_loss: 1.7077 - val_accuracy: 0.7692 - 11s/epoch - 172ms/step\n",
            "Epoch 40/50\n",
            "63/63 - 12s - loss: 0.2602 - accuracy: 0.9539 - val_loss: 0.8519 - val_accuracy: 0.8269 - 12s/epoch - 187ms/step\n",
            "Epoch 41/50\n",
            "63/63 - 11s - loss: 0.3112 - accuracy: 0.9359 - val_loss: 1.2560 - val_accuracy: 0.7308 - 11s/epoch - 172ms/step\n",
            "Epoch 42/50\n",
            "63/63 - 11s - loss: 0.1473 - accuracy: 0.9619 - val_loss: 1.5622 - val_accuracy: 0.7500 - 11s/epoch - 173ms/step\n",
            "Epoch 43/50\n",
            "63/63 - 11s - loss: 0.1143 - accuracy: 0.9780 - val_loss: 2.5392 - val_accuracy: 0.6346 - 11s/epoch - 173ms/step\n",
            "Epoch 44/50\n",
            "63/63 - 11s - loss: 0.1289 - accuracy: 0.9659 - val_loss: 1.1298 - val_accuracy: 0.8077 - 11s/epoch - 171ms/step\n",
            "Epoch 45/50\n",
            "63/63 - 11s - loss: 0.0851 - accuracy: 0.9760 - val_loss: 1.4051 - val_accuracy: 0.7692 - 11s/epoch - 173ms/step\n",
            "Epoch 46/50\n",
            "63/63 - 11s - loss: 0.1050 - accuracy: 0.9699 - val_loss: 1.1132 - val_accuracy: 0.7500 - 11s/epoch - 173ms/step\n",
            "Epoch 47/50\n",
            "63/63 - 11s - loss: 0.2194 - accuracy: 0.9599 - val_loss: 1.8368 - val_accuracy: 0.6154 - 11s/epoch - 172ms/step\n",
            "Epoch 48/50\n",
            "63/63 - 11s - loss: 0.1002 - accuracy: 0.9719 - val_loss: 1.0969 - val_accuracy: 0.7500 - 11s/epoch - 172ms/step\n",
            "Epoch 49/50\n",
            "63/63 - 11s - loss: 0.0741 - accuracy: 0.9760 - val_loss: 0.7960 - val_accuracy: 0.8077 - 11s/epoch - 173ms/step\n",
            "Epoch 50/50\n",
            "63/63 - 11s - loss: 0.0591 - accuracy: 0.9760 - val_loss: 1.3938 - val_accuracy: 0.7500 - 11s/epoch - 173ms/step\n"
          ]
        }
      ],
      "source": [
        "history = model.fit(train_generator,\n",
        "                                validation_data=validation_generator,\n",
        "                                epochs=50,\n",
        "                                verbose=2)"
      ]
    },
    {
      "cell_type": "code",
      "execution_count": 6,
      "metadata": {
        "id": "RFLBYz6EO_GZ"
      },
      "outputs": [],
      "source": []
    }
  ],
  "metadata": {
    "accelerator": "GPU",
    "colab": {
      "name": "Transfer Learnig.ipynb",
      "provenance": [],
      "authorship_tag": "ABX9TyP050cPlt7ANqLufNJH4Xr4",
      "include_colab_link": true
    },
    "gpuClass": "standard",
    "kernelspec": {
      "display_name": "Python 3",
      "name": "python3"
    },
    "language_info": {
      "name": "python"
    }
  },
  "nbformat": 4,
  "nbformat_minor": 0
}