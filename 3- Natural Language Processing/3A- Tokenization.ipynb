{
  "nbformat": 4,
  "nbformat_minor": 0,
  "metadata": {
    "colab": {
      "name": "Latihan Tokenization.ipynb",
      "provenance": [],
      "collapsed_sections": [],
      "authorship_tag": "ABX9TyPzNPuqBTkAbsNHIbk4DEJI",
      "include_colab_link": true
    },
    "kernelspec": {
      "name": "python3",
      "display_name": "Python 3"
    },
    "language_info": {
      "name": "python"
    },
    "gpuClass": "standard"
  },
  "cells": [
    {
      "cell_type": "markdown",
      "metadata": {
        "id": "view-in-github",
        "colab_type": "text"
      },
      "source": [
        "<a href=\"https://colab.research.google.com/github/manabil/Machine_Learning_Intermediate/blob/main/3-%20Natural%20Language%20Processing/3A-%20Tokenization.ipynb\" target=\"_parent\"><img src=\"https://colab.research.google.com/assets/colab-badge.svg\" alt=\"Open In Colab\"/></a>"
      ]
    },
    {
      "cell_type": "code",
      "execution_count": 131,
      "metadata": {
        "id": "t_waUNA3w6ti"
      },
      "outputs": [],
      "source": [
        "from tensorflow.keras.preprocessing.text import Tokenizer\n",
        "from tensorflow.keras.preprocessing.sequence import pad_sequences"
      ]
    },
    {
      "cell_type": "code",
      "source": [
        "teks = ['Saya suka programming',\n",
        "        'Programming sangat menyenangkan!',\n",
        "        'Machine Learning berbeda dengan pemrograman konvensional']"
      ],
      "metadata": {
        "id": "6GY6EQ-4xFrs"
      },
      "execution_count": 132,
      "outputs": []
    },
    {
      "cell_type": "code",
      "source": [
        "tokenizer = Tokenizer(num_words= 15, oov_token='-')\n",
        "tokenizer.fit_on_texts(teks)"
      ],
      "metadata": {
        "id": "D3uUvzGpxHiw"
      },
      "execution_count": 133,
      "outputs": []
    },
    {
      "cell_type": "code",
      "source": [
        "sequences = tokenizer.texts_to_sequences(teks)\n",
        "print(tokenizer.word_index)"
      ],
      "metadata": {
        "id": "oGd-9OTgxJKn",
        "colab": {
          "base_uri": "https://localhost:8080/"
        },
        "outputId": "2669da8c-04d6-4a11-83bd-259b8c958d8f"
      },
      "execution_count": 134,
      "outputs": [
        {
          "output_type": "stream",
          "name": "stdout",
          "text": [
            "{'-': 1, 'programming': 2, 'saya': 3, 'suka': 4, 'sangat': 5, 'menyenangkan': 6, 'machine': 7, 'learning': 8, 'berbeda': 9, 'dengan': 10, 'pemrograman': 11, 'konvensional': 12}\n"
          ]
        }
      ]
    },
    {
      "cell_type": "code",
      "source": [
        "sequences_samapanjang = pad_sequences(sequences)\n",
        "sequences_samapanjang"
      ],
      "metadata": {
        "id": "iksfxyhsxNfU",
        "colab": {
          "base_uri": "https://localhost:8080/"
        },
        "outputId": "8f9ce62f-e98a-49a8-faa7-bcfc2821a4ab"
      },
      "execution_count": 135,
      "outputs": [
        {
          "output_type": "execute_result",
          "data": {
            "text/plain": [
              "array([[ 0,  0,  0,  3,  4,  2],\n",
              "       [ 0,  0,  0,  2,  5,  6],\n",
              "       [ 7,  8,  9, 10, 11, 12]], dtype=int32)"
            ]
          },
          "metadata": {},
          "execution_count": 135
        }
      ]
    },
    {
      "cell_type": "code",
      "source": [
        "sequences_samapanjang = pad_sequences(sequences, \n",
        "                                        padding='post',\n",
        "                                        maxlen=5)\n",
        "sequences_samapanjang"
      ],
      "metadata": {
        "id": "Or5VWB54xRRx",
        "colab": {
          "base_uri": "https://localhost:8080/"
        },
        "outputId": "369e06c7-e85c-4712-e46e-00432da76e9e"
      },
      "execution_count": 136,
      "outputs": [
        {
          "output_type": "execute_result",
          "data": {
            "text/plain": [
              "array([[ 3,  4,  2,  0,  0],\n",
              "       [ 2,  5,  6,  0,  0],\n",
              "       [ 8,  9, 10, 11, 12]], dtype=int32)"
            ]
          },
          "metadata": {},
          "execution_count": 136
        }
      ]
    },
    {
      "cell_type": "code",
      "source": [
        "sequences_samapanjang = pad_sequences(sequences, \n",
        "                                        padding='post',\n",
        "                                        maxlen=5,\n",
        "                                        truncating='post')\n",
        "sequences_samapanjang"
      ],
      "metadata": {
        "id": "X9Oxb5HSxUEy",
        "colab": {
          "base_uri": "https://localhost:8080/"
        },
        "outputId": "aa892a9e-e26d-4691-95ba-53feddaa72b7"
      },
      "execution_count": 137,
      "outputs": [
        {
          "output_type": "execute_result",
          "data": {
            "text/plain": [
              "array([[ 3,  4,  2,  0,  0],\n",
              "       [ 2,  5,  6,  0,  0],\n",
              "       [ 7,  8,  9, 10, 11]], dtype=int32)"
            ]
          },
          "metadata": {},
          "execution_count": 137
        }
      ]
    }
  ]
}