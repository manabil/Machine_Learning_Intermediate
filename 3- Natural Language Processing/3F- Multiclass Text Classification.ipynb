{
  "cells": [
    {
      "cell_type": "markdown",
      "metadata": {
        "id": "view-in-github",
        "colab_type": "text"
      },
      "source": [
        "<a href=\"https://colab.research.google.com/github/manabil/Machine_Learning_Intermediate/blob/main/3-%20Natural%20Language%20Processing/3F-%20Multiclass%20Text%20Classification.ipynb\" target=\"_parent\"><img src=\"https://colab.research.google.com/assets/colab-badge.svg\" alt=\"Open In Colab\"/></a>"
      ]
    },
    {
      "cell_type": "code",
      "execution_count": 5,
      "metadata": {
        "id": "zzlaXOzZVU7A"
      },
      "outputs": [],
      "source": [
        "import pandas as pd\n",
        "from sklearn.model_selection import train_test_split\n",
        "from tensorflow.keras.preprocessing.text import Tokenizer\n",
        "from tensorflow.keras.preprocessing.sequence import pad_sequences\n",
        "import tensorflow as tf"
      ]
    },
    {
      "cell_type": "code",
      "execution_count": 6,
      "metadata": {
        "id": "uoHraI-cVcUb"
      },
      "outputs": [],
      "source": [
        "df = pd.read_csv('imdb_indonesian_movies_2.csv')\n",
        "df = df.drop(columns=['judul_film'])"
      ]
    },
    {
      "cell_type": "code",
      "execution_count": 7,
      "metadata": {
        "colab": {
          "base_uri": "https://localhost:8080/",
          "height": 424
        },
        "id": "u7Zy9YEBVfan",
        "outputId": "af1faeb5-b9b8-4e28-ecee-7b928dd90a45"
      },
      "outputs": [
        {
          "output_type": "execute_result",
          "data": {
            "text/plain": [
              "                                     ringkasan_sinopsis  Drama  Horor  Komedi  \\\n",
              "0     Raden Mas Said putra sulung Tumenggung Wilarik...      1      0       0   \n",
              "1     Soe Hok Gie adalah seorang aktivis yang hidup ...      1      0       0   \n",
              "2     Guru Bangsa Tjokroaminoto menceritakan tentang...      1      0       0   \n",
              "3     POL menceritakan kisah hidup yang luar biasa d...      1      0       0   \n",
              "4     Perjalanan pahlawan Indonesia KH Ahmad Dahlan ...      1      0       0   \n",
              "...                                                 ...    ...    ...     ...   \n",
              "1000  Winter in Tokyo berpusat pada kehidupan Ishida...      0      0       0   \n",
              "1001  Markonah melarikan diri ke Jakarta karena akan...      0      0       0   \n",
              "1002  Tempat aking lebih dari 36 jam, Last Night ada...      0      0       0   \n",
              "1003  Proyek baru ini adalah tentang seorang lelaki ...      0      0       0   \n",
              "1004  Atika (Meriam Bellina) mantan penyanyi tenar, ...      0      0       0   \n",
              "\n",
              "      Laga  Romantis  \n",
              "0        0         0  \n",
              "1        0         0  \n",
              "2        0         0  \n",
              "3        0         0  \n",
              "4        0         0  \n",
              "...    ...       ...  \n",
              "1000     0         1  \n",
              "1001     0         1  \n",
              "1002     0         1  \n",
              "1003     0         1  \n",
              "1004     0         1  \n",
              "\n",
              "[1005 rows x 6 columns]"
            ],
            "text/html": [
              "\n",
              "  <div id=\"df-0042fca0-2cff-42a3-abcc-a6c35feb3c33\">\n",
              "    <div class=\"colab-df-container\">\n",
              "      <div>\n",
              "<style scoped>\n",
              "    .dataframe tbody tr th:only-of-type {\n",
              "        vertical-align: middle;\n",
              "    }\n",
              "\n",
              "    .dataframe tbody tr th {\n",
              "        vertical-align: top;\n",
              "    }\n",
              "\n",
              "    .dataframe thead th {\n",
              "        text-align: right;\n",
              "    }\n",
              "</style>\n",
              "<table border=\"1\" class=\"dataframe\">\n",
              "  <thead>\n",
              "    <tr style=\"text-align: right;\">\n",
              "      <th></th>\n",
              "      <th>ringkasan_sinopsis</th>\n",
              "      <th>Drama</th>\n",
              "      <th>Horor</th>\n",
              "      <th>Komedi</th>\n",
              "      <th>Laga</th>\n",
              "      <th>Romantis</th>\n",
              "    </tr>\n",
              "  </thead>\n",
              "  <tbody>\n",
              "    <tr>\n",
              "      <th>0</th>\n",
              "      <td>Raden Mas Said putra sulung Tumenggung Wilarik...</td>\n",
              "      <td>1</td>\n",
              "      <td>0</td>\n",
              "      <td>0</td>\n",
              "      <td>0</td>\n",
              "      <td>0</td>\n",
              "    </tr>\n",
              "    <tr>\n",
              "      <th>1</th>\n",
              "      <td>Soe Hok Gie adalah seorang aktivis yang hidup ...</td>\n",
              "      <td>1</td>\n",
              "      <td>0</td>\n",
              "      <td>0</td>\n",
              "      <td>0</td>\n",
              "      <td>0</td>\n",
              "    </tr>\n",
              "    <tr>\n",
              "      <th>2</th>\n",
              "      <td>Guru Bangsa Tjokroaminoto menceritakan tentang...</td>\n",
              "      <td>1</td>\n",
              "      <td>0</td>\n",
              "      <td>0</td>\n",
              "      <td>0</td>\n",
              "      <td>0</td>\n",
              "    </tr>\n",
              "    <tr>\n",
              "      <th>3</th>\n",
              "      <td>POL menceritakan kisah hidup yang luar biasa d...</td>\n",
              "      <td>1</td>\n",
              "      <td>0</td>\n",
              "      <td>0</td>\n",
              "      <td>0</td>\n",
              "      <td>0</td>\n",
              "    </tr>\n",
              "    <tr>\n",
              "      <th>4</th>\n",
              "      <td>Perjalanan pahlawan Indonesia KH Ahmad Dahlan ...</td>\n",
              "      <td>1</td>\n",
              "      <td>0</td>\n",
              "      <td>0</td>\n",
              "      <td>0</td>\n",
              "      <td>0</td>\n",
              "    </tr>\n",
              "    <tr>\n",
              "      <th>...</th>\n",
              "      <td>...</td>\n",
              "      <td>...</td>\n",
              "      <td>...</td>\n",
              "      <td>...</td>\n",
              "      <td>...</td>\n",
              "      <td>...</td>\n",
              "    </tr>\n",
              "    <tr>\n",
              "      <th>1000</th>\n",
              "      <td>Winter in Tokyo berpusat pada kehidupan Ishida...</td>\n",
              "      <td>0</td>\n",
              "      <td>0</td>\n",
              "      <td>0</td>\n",
              "      <td>0</td>\n",
              "      <td>1</td>\n",
              "    </tr>\n",
              "    <tr>\n",
              "      <th>1001</th>\n",
              "      <td>Markonah melarikan diri ke Jakarta karena akan...</td>\n",
              "      <td>0</td>\n",
              "      <td>0</td>\n",
              "      <td>0</td>\n",
              "      <td>0</td>\n",
              "      <td>1</td>\n",
              "    </tr>\n",
              "    <tr>\n",
              "      <th>1002</th>\n",
              "      <td>Tempat aking lebih dari 36 jam, Last Night ada...</td>\n",
              "      <td>0</td>\n",
              "      <td>0</td>\n",
              "      <td>0</td>\n",
              "      <td>0</td>\n",
              "      <td>1</td>\n",
              "    </tr>\n",
              "    <tr>\n",
              "      <th>1003</th>\n",
              "      <td>Proyek baru ini adalah tentang seorang lelaki ...</td>\n",
              "      <td>0</td>\n",
              "      <td>0</td>\n",
              "      <td>0</td>\n",
              "      <td>0</td>\n",
              "      <td>1</td>\n",
              "    </tr>\n",
              "    <tr>\n",
              "      <th>1004</th>\n",
              "      <td>Atika (Meriam Bellina) mantan penyanyi tenar, ...</td>\n",
              "      <td>0</td>\n",
              "      <td>0</td>\n",
              "      <td>0</td>\n",
              "      <td>0</td>\n",
              "      <td>1</td>\n",
              "    </tr>\n",
              "  </tbody>\n",
              "</table>\n",
              "<p>1005 rows × 6 columns</p>\n",
              "</div>\n",
              "      <button class=\"colab-df-convert\" onclick=\"convertToInteractive('df-0042fca0-2cff-42a3-abcc-a6c35feb3c33')\"\n",
              "              title=\"Convert this dataframe to an interactive table.\"\n",
              "              style=\"display:none;\">\n",
              "        \n",
              "  <svg xmlns=\"http://www.w3.org/2000/svg\" height=\"24px\"viewBox=\"0 0 24 24\"\n",
              "       width=\"24px\">\n",
              "    <path d=\"M0 0h24v24H0V0z\" fill=\"none\"/>\n",
              "    <path d=\"M18.56 5.44l.94 2.06.94-2.06 2.06-.94-2.06-.94-.94-2.06-.94 2.06-2.06.94zm-11 1L8.5 8.5l.94-2.06 2.06-.94-2.06-.94L8.5 2.5l-.94 2.06-2.06.94zm10 10l.94 2.06.94-2.06 2.06-.94-2.06-.94-.94-2.06-.94 2.06-2.06.94z\"/><path d=\"M17.41 7.96l-1.37-1.37c-.4-.4-.92-.59-1.43-.59-.52 0-1.04.2-1.43.59L10.3 9.45l-7.72 7.72c-.78.78-.78 2.05 0 2.83L4 21.41c.39.39.9.59 1.41.59.51 0 1.02-.2 1.41-.59l7.78-7.78 2.81-2.81c.8-.78.8-2.07 0-2.86zM5.41 20L4 18.59l7.72-7.72 1.47 1.35L5.41 20z\"/>\n",
              "  </svg>\n",
              "      </button>\n",
              "      \n",
              "  <style>\n",
              "    .colab-df-container {\n",
              "      display:flex;\n",
              "      flex-wrap:wrap;\n",
              "      gap: 12px;\n",
              "    }\n",
              "\n",
              "    .colab-df-convert {\n",
              "      background-color: #E8F0FE;\n",
              "      border: none;\n",
              "      border-radius: 50%;\n",
              "      cursor: pointer;\n",
              "      display: none;\n",
              "      fill: #1967D2;\n",
              "      height: 32px;\n",
              "      padding: 0 0 0 0;\n",
              "      width: 32px;\n",
              "    }\n",
              "\n",
              "    .colab-df-convert:hover {\n",
              "      background-color: #E2EBFA;\n",
              "      box-shadow: 0px 1px 2px rgba(60, 64, 67, 0.3), 0px 1px 3px 1px rgba(60, 64, 67, 0.15);\n",
              "      fill: #174EA6;\n",
              "    }\n",
              "\n",
              "    [theme=dark] .colab-df-convert {\n",
              "      background-color: #3B4455;\n",
              "      fill: #D2E3FC;\n",
              "    }\n",
              "\n",
              "    [theme=dark] .colab-df-convert:hover {\n",
              "      background-color: #434B5C;\n",
              "      box-shadow: 0px 1px 3px 1px rgba(0, 0, 0, 0.15);\n",
              "      filter: drop-shadow(0px 1px 2px rgba(0, 0, 0, 0.3));\n",
              "      fill: #FFFFFF;\n",
              "    }\n",
              "  </style>\n",
              "\n",
              "      <script>\n",
              "        const buttonEl =\n",
              "          document.querySelector('#df-0042fca0-2cff-42a3-abcc-a6c35feb3c33 button.colab-df-convert');\n",
              "        buttonEl.style.display =\n",
              "          google.colab.kernel.accessAllowed ? 'block' : 'none';\n",
              "\n",
              "        async function convertToInteractive(key) {\n",
              "          const element = document.querySelector('#df-0042fca0-2cff-42a3-abcc-a6c35feb3c33');\n",
              "          const dataTable =\n",
              "            await google.colab.kernel.invokeFunction('convertToInteractive',\n",
              "                                                     [key], {});\n",
              "          if (!dataTable) return;\n",
              "\n",
              "          const docLinkHtml = 'Like what you see? Visit the ' +\n",
              "            '<a target=\"_blank\" href=https://colab.research.google.com/notebooks/data_table.ipynb>data table notebook</a>'\n",
              "            + ' to learn more about interactive tables.';\n",
              "          element.innerHTML = '';\n",
              "          dataTable['output_type'] = 'display_data';\n",
              "          await google.colab.output.renderOutput(dataTable, element);\n",
              "          const docLink = document.createElement('div');\n",
              "          docLink.innerHTML = docLinkHtml;\n",
              "          element.appendChild(docLink);\n",
              "        }\n",
              "      </script>\n",
              "    </div>\n",
              "  </div>\n",
              "  "
            ]
          },
          "metadata": {},
          "execution_count": 7
        }
      ],
      "source": [
        "category = pd.get_dummies(df.genre)\n",
        "df_baru = pd.concat([df, category], axis=1)\n",
        "df_baru = df_baru.drop(columns='genre')\n",
        "df_baru"
      ]
    },
    {
      "cell_type": "code",
      "execution_count": 8,
      "metadata": {
        "id": "CkSF0Ff5Vhzj"
      },
      "outputs": [],
      "source": [
        "sinopsis = df_baru['ringkasan_sinopsis'].values\n",
        "label = df_baru[['Drama', 'Horor', 'Komedi', 'Laga', 'Romantis']].values"
      ]
    },
    {
      "cell_type": "code",
      "source": [
        "longest_sentences = []\n",
        "for i in sinopsis:\n",
        "    longest_sentences.append(len(i.split(' ')))\n",
        "max(longest_sentences)"
      ],
      "metadata": {
        "colab": {
          "base_uri": "https://localhost:8080/"
        },
        "id": "V4aO60Vi5P57",
        "outputId": "6b2ea75d-ade2-4387-9390-6c60181e1ebb"
      },
      "execution_count": 30,
      "outputs": [
        {
          "output_type": "execute_result",
          "data": {
            "text/plain": [
              "1729"
            ]
          },
          "metadata": {},
          "execution_count": 30
        }
      ]
    },
    {
      "cell_type": "code",
      "execution_count": 15,
      "metadata": {
        "id": "_eN1138YVkUw"
      },
      "outputs": [],
      "source": [
        "sinopsis_latih, sinopsis_test, label_latih, label_test = train_test_split(sinopsis, label, test_size=0.2)"
      ]
    },
    {
      "cell_type": "code",
      "source": [
        "print(len(sinopsis_latih))\n",
        "print(len(label_latih))\n",
        "print(len(sinopsis_test))\n",
        "print(len(label_test))"
      ],
      "metadata": {
        "colab": {
          "base_uri": "https://localhost:8080/"
        },
        "id": "VUrnOxWd73Z5",
        "outputId": "0d79a6c6-f9e0-4f13-ac32-e4bcf3ab6c5b"
      },
      "execution_count": 32,
      "outputs": [
        {
          "output_type": "stream",
          "name": "stdout",
          "text": [
            "804\n",
            "804\n",
            "201\n",
            "201\n"
          ]
        }
      ]
    },
    {
      "cell_type": "code",
      "source": [
        "vocab_size = 15000\n",
        "embedding_dim = 16\n",
        "trunc_type='post'\n",
        "padding_type='post'\n",
        "oov_tok = \"<OOV>\"\n",
        "training_size = 20000"
      ],
      "metadata": {
        "id": "6KBUUb7B4wML"
      },
      "execution_count": 66,
      "outputs": []
    },
    {
      "cell_type": "code",
      "execution_count": 74,
      "metadata": {
        "id": "UNGEQep5VnV5",
        "colab": {
          "base_uri": "https://localhost:8080/"
        },
        "outputId": "371a6f40-de49-472c-b8f1-f8c402380079"
      },
      "outputs": [
        {
          "output_type": "stream",
          "name": "stdout",
          "text": [
            "Max Sequences\t= 1765 word\n",
            "Word Total\t= 13678 word\n"
          ]
        }
      ],
      "source": [
        "# Create Tokenizer\n",
        "tokenizer = Tokenizer(num_words=vocab_size, oov_token=oov_tok)\n",
        "tokenizer.fit_on_texts(sinopsis_latih) \n",
        "tokenizer.fit_on_texts(sinopsis_test)\n",
        "    \n",
        "# Create Sequnces\n",
        "sekuens_latih = tokenizer.texts_to_sequences(sinopsis_latih)\n",
        "sekuens_test = tokenizer.texts_to_sequences(sinopsis_test)\n",
        "\n",
        "# Choose Max Sequences\n",
        "max_sequence_latih = max([len(x) for x in sekuens_latih])\n",
        "max_sequence_test = max([len(x) for x in sekuens_test])\n",
        "max_length = max_sequence_latih if max_sequence_latih > max_sequence_test else max_sequence_test\n",
        "print(f'Max Sequences\\t= {max_length} word')\n",
        "    \n",
        "# Padding Sequences\n",
        "padded_latih = pad_sequences(sekuens_latih, maxlen=max_length, padding=padding_type, truncating=trunc_type) \n",
        "padded_test = pad_sequences(sekuens_test, maxlen=max_length, padding=padding_type, truncating=trunc_type)\n",
        "\n",
        "total_word = len(tokenizer.word_index)\n",
        "print(f'Word Total\\t= {total_word} word')"
      ]
    },
    {
      "cell_type": "code",
      "source": [
        "print(padded_latih[0].shape)\n",
        "print(padded_test[0].shape)"
      ],
      "metadata": {
        "colab": {
          "base_uri": "https://localhost:8080/"
        },
        "id": "UbeaFSNRBscR",
        "outputId": "56e1aa9d-46ca-46f2-ec92-ad1c7f305535"
      },
      "execution_count": 75,
      "outputs": [
        {
          "output_type": "stream",
          "name": "stdout",
          "text": [
            "(1765,)\n",
            "(1765,)\n"
          ]
        }
      ]
    },
    {
      "cell_type": "code",
      "execution_count": null,
      "metadata": {
        "id": "akWsp6UqVtFG"
      },
      "outputs": [],
      "source": [
        "model = tf.keras.Sequential([\n",
        "    tf.keras.layers.Embedding(input_dim=5000, output_dim=16),\n",
        "    tf.keras.layers.LSTM(64),\n",
        "    tf.keras.layers.Dense(128, activation='relu'),\n",
        "    tf.keras.layers.Dense(64, activation='relu'),\n",
        "    tf.keras.layers.Dense(5, activation='softmax')\n",
        "])\n",
        "model.compile(loss='categorical_crossentropy',optimizer='adam',metrics=['accuracy'])"
      ]
    },
    {
      "cell_type": "code",
      "execution_count": null,
      "metadata": {
        "colab": {
          "base_uri": "https://localhost:8080/"
        },
        "id": "dXqbdUW6VyjQ",
        "outputId": "1d1eb36a-487b-4282-f75e-7ad433ae5888"
      },
      "outputs": [
        {
          "name": "stdout",
          "output_type": "stream",
          "text": [
            "Epoch 1/30\n",
            "26/26 - 19s - loss: 1.6108 - accuracy: 0.1978 - val_loss: 1.6126 - val_accuracy: 0.1841 - 19s/epoch - 741ms/step\n",
            "Epoch 2/30\n",
            "26/26 - 17s - loss: 1.6066 - accuracy: 0.2562 - val_loss: 1.6112 - val_accuracy: 0.1990 - 17s/epoch - 664ms/step\n",
            "Epoch 3/30\n",
            "26/26 - 16s - loss: 1.5569 - accuracy: 0.3595 - val_loss: 1.6535 - val_accuracy: 0.2438 - 16s/epoch - 626ms/step\n",
            "Epoch 4/30\n",
            "26/26 - 17s - loss: 1.3796 - accuracy: 0.4067 - val_loss: 1.6308 - val_accuracy: 0.2488 - 17s/epoch - 644ms/step\n",
            "Epoch 5/30\n",
            "26/26 - 17s - loss: 1.0280 - accuracy: 0.5871 - val_loss: 2.0030 - val_accuracy: 0.2338 - 17s/epoch - 636ms/step\n",
            "Epoch 6/30\n",
            "26/26 - 16s - loss: 0.6599 - accuracy: 0.7438 - val_loss: 2.5900 - val_accuracy: 0.2687 - 16s/epoch - 625ms/step\n",
            "Epoch 7/30\n",
            "26/26 - 17s - loss: 0.4561 - accuracy: 0.8333 - val_loss: 3.1703 - val_accuracy: 0.2836 - 17s/epoch - 638ms/step\n",
            "Epoch 8/30\n",
            "26/26 - 17s - loss: 0.2431 - accuracy: 0.9353 - val_loss: 3.6170 - val_accuracy: 0.3333 - 17s/epoch - 640ms/step\n",
            "Epoch 9/30\n",
            "26/26 - 17s - loss: 0.1353 - accuracy: 0.9677 - val_loss: 3.8615 - val_accuracy: 0.2935 - 17s/epoch - 646ms/step\n",
            "Epoch 10/30\n",
            "26/26 - 16s - loss: 0.0610 - accuracy: 0.9913 - val_loss: 4.7848 - val_accuracy: 0.2687 - 16s/epoch - 622ms/step\n",
            "Epoch 11/30\n",
            "26/26 - 17s - loss: 0.0314 - accuracy: 0.9963 - val_loss: 4.8382 - val_accuracy: 0.2836 - 17s/epoch - 650ms/step\n",
            "Epoch 12/30\n",
            "26/26 - 16s - loss: 0.0167 - accuracy: 0.9975 - val_loss: 5.4662 - val_accuracy: 0.2786 - 16s/epoch - 626ms/step\n",
            "Epoch 13/30\n",
            "26/26 - 17s - loss: 0.0150 - accuracy: 0.9975 - val_loss: 6.0026 - val_accuracy: 0.2836 - 17s/epoch - 639ms/step\n",
            "Epoch 14/30\n",
            "26/26 - 16s - loss: 0.0117 - accuracy: 0.9975 - val_loss: 6.3467 - val_accuracy: 0.2786 - 16s/epoch - 633ms/step\n",
            "Epoch 15/30\n",
            "26/26 - 17s - loss: 0.0102 - accuracy: 0.9975 - val_loss: 6.0824 - val_accuracy: 0.2935 - 17s/epoch - 636ms/step\n",
            "Epoch 16/30\n",
            "26/26 - 16s - loss: 0.0094 - accuracy: 0.9975 - val_loss: 6.6609 - val_accuracy: 0.2836 - 16s/epoch - 622ms/step\n",
            "Epoch 17/30\n",
            "26/26 - 17s - loss: 0.0085 - accuracy: 0.9975 - val_loss: 6.9644 - val_accuracy: 0.2687 - 17s/epoch - 637ms/step\n",
            "Epoch 18/30\n",
            "26/26 - 16s - loss: 0.0064 - accuracy: 1.0000 - val_loss: 6.8567 - val_accuracy: 0.2935 - 16s/epoch - 633ms/step\n",
            "Epoch 19/30\n",
            "26/26 - 17s - loss: 0.0134 - accuracy: 0.9963 - val_loss: 6.2729 - val_accuracy: 0.2886 - 17s/epoch - 657ms/step\n",
            "Epoch 20/30\n",
            "26/26 - 16s - loss: 0.0098 - accuracy: 0.9988 - val_loss: 5.5882 - val_accuracy: 0.2836 - 16s/epoch - 621ms/step\n",
            "Epoch 21/30\n",
            "26/26 - 16s - loss: 0.0102 - accuracy: 0.9963 - val_loss: 5.7549 - val_accuracy: 0.2637 - 16s/epoch - 627ms/step\n",
            "Epoch 22/30\n",
            "26/26 - 16s - loss: 0.0094 - accuracy: 0.9988 - val_loss: 5.4382 - val_accuracy: 0.2786 - 16s/epoch - 630ms/step\n",
            "Epoch 23/30\n",
            "26/26 - 16s - loss: 0.0187 - accuracy: 0.9938 - val_loss: 5.4051 - val_accuracy: 0.2886 - 16s/epoch - 625ms/step\n",
            "Epoch 24/30\n",
            "26/26 - 16s - loss: 0.0114 - accuracy: 0.9988 - val_loss: 5.3877 - val_accuracy: 0.2736 - 16s/epoch - 625ms/step\n",
            "Epoch 25/30\n",
            "26/26 - 16s - loss: 0.0064 - accuracy: 0.9988 - val_loss: 5.7682 - val_accuracy: 0.2736 - 16s/epoch - 629ms/step\n",
            "Epoch 26/30\n",
            "26/26 - 16s - loss: 0.0025 - accuracy: 1.0000 - val_loss: 6.0456 - val_accuracy: 0.2687 - 16s/epoch - 622ms/step\n",
            "Epoch 27/30\n",
            "26/26 - 17s - loss: 0.0020 - accuracy: 1.0000 - val_loss: 6.3146 - val_accuracy: 0.2637 - 17s/epoch - 654ms/step\n",
            "Epoch 28/30\n",
            "26/26 - 16s - loss: 9.9555e-04 - accuracy: 1.0000 - val_loss: 6.4904 - val_accuracy: 0.2637 - 16s/epoch - 629ms/step\n",
            "Epoch 29/30\n",
            "26/26 - 16s - loss: 8.1153e-04 - accuracy: 1.0000 - val_loss: 6.6263 - val_accuracy: 0.2687 - 16s/epoch - 630ms/step\n",
            "Epoch 30/30\n",
            "26/26 - 16s - loss: 0.0012 - accuracy: 1.0000 - val_loss: 6.7122 - val_accuracy: 0.2736 - 16s/epoch - 629ms/step\n"
          ]
        }
      ],
      "source": [
        "num_epochs = 30\n",
        "history = model.fit(padded_latih, label_latih, epochs=num_epochs, \n",
        "                    validation_data=(padded_test, label_test), verbose=2)"
      ]
    },
    {
      "cell_type": "code",
      "execution_count": null,
      "metadata": {
        "id": "mExodHRRoB-H"
      },
      "outputs": [],
      "source": [
        "model = tf.keras.Sequential([\n",
        "    tf.keras.layers.Embedding(input_dim=5000, output_dim=16),\n",
        "    tf.keras.layers.LSTM(64, dropout=0.3, recurrent_dropout=0.3),\n",
        "    tf.keras.layers.Dense(128, activation='relu'),\n",
        "    tf.keras.layers.Dense(64, activation='relu'),\n",
        "    tf.keras.layers.Dense(5, activation='softmax')\n",
        "])\n",
        "model.compile(loss='categorical_crossentropy',optimizer='adam',metrics=['accuracy'])"
      ]
    },
    {
      "cell_type": "code",
      "execution_count": null,
      "metadata": {
        "colab": {
          "base_uri": "https://localhost:8080/"
        },
        "id": "gO0FkCWYddC8",
        "outputId": "db5ad56c-4af7-4fd4-e0e4-996dde196292"
      },
      "outputs": [
        {
          "name": "stdout",
          "output_type": "stream",
          "text": [
            "Epoch 1/30\n",
            "26/26 - 28s - loss: 1.6101 - accuracy: 0.2090 - val_loss: 1.6120 - val_accuracy: 0.1741 - 28s/epoch - 1s/step\n",
            "Epoch 2/30\n",
            "26/26 - 23s - loss: 1.6077 - accuracy: 0.2214 - val_loss: 1.6109 - val_accuracy: 0.2040 - 23s/epoch - 900ms/step\n",
            "Epoch 3/30\n",
            "26/26 - 25s - loss: 1.5867 - accuracy: 0.3109 - val_loss: 1.5954 - val_accuracy: 0.2139 - 25s/epoch - 966ms/step\n",
            "Epoch 4/30\n",
            "26/26 - 24s - loss: 1.4427 - accuracy: 0.3557 - val_loss: 1.6059 - val_accuracy: 0.2537 - 24s/epoch - 905ms/step\n",
            "Epoch 5/30\n",
            "26/26 - 23s - loss: 1.1838 - accuracy: 0.4117 - val_loss: 1.7846 - val_accuracy: 0.2438 - 23s/epoch - 891ms/step\n",
            "Epoch 6/30\n",
            "26/26 - 23s - loss: 1.0414 - accuracy: 0.5112 - val_loss: 1.8504 - val_accuracy: 0.2637 - 23s/epoch - 897ms/step\n",
            "Epoch 7/30\n",
            "26/26 - 24s - loss: 0.8688 - accuracy: 0.5647 - val_loss: 1.9150 - val_accuracy: 0.2388 - 24s/epoch - 908ms/step\n",
            "Epoch 8/30\n",
            "26/26 - 24s - loss: 0.6982 - accuracy: 0.7264 - val_loss: 2.1951 - val_accuracy: 0.2637 - 24s/epoch - 938ms/step\n",
            "Epoch 9/30\n",
            "26/26 - 23s - loss: 0.5276 - accuracy: 0.7873 - val_loss: 2.3092 - val_accuracy: 0.2786 - 23s/epoch - 902ms/step\n",
            "Epoch 10/30\n",
            "26/26 - 23s - loss: 0.4458 - accuracy: 0.8209 - val_loss: 2.3025 - val_accuracy: 0.2687 - 23s/epoch - 898ms/step\n",
            "Epoch 11/30\n",
            "26/26 - 23s - loss: 0.3270 - accuracy: 0.8781 - val_loss: 2.7763 - val_accuracy: 0.2935 - 23s/epoch - 902ms/step\n",
            "Epoch 12/30\n",
            "26/26 - 24s - loss: 0.2127 - accuracy: 0.9303 - val_loss: 2.8721 - val_accuracy: 0.2935 - 24s/epoch - 916ms/step\n",
            "Epoch 13/30\n",
            "26/26 - 25s - loss: 0.1545 - accuracy: 0.9515 - val_loss: 3.4481 - val_accuracy: 0.2786 - 25s/epoch - 948ms/step\n",
            "Epoch 14/30\n",
            "26/26 - 23s - loss: 0.1028 - accuracy: 0.9664 - val_loss: 3.3226 - val_accuracy: 0.3035 - 23s/epoch - 903ms/step\n",
            "Epoch 15/30\n",
            "26/26 - 24s - loss: 0.0977 - accuracy: 0.9739 - val_loss: 3.5551 - val_accuracy: 0.2836 - 24s/epoch - 909ms/step\n",
            "Epoch 16/30\n",
            "26/26 - 23s - loss: 0.0779 - accuracy: 0.9789 - val_loss: 3.5418 - val_accuracy: 0.3184 - 23s/epoch - 892ms/step\n",
            "Epoch 17/30\n",
            "26/26 - 23s - loss: 0.0689 - accuracy: 0.9838 - val_loss: 3.7750 - val_accuracy: 0.3085 - 23s/epoch - 880ms/step\n",
            "Epoch 18/30\n",
            "26/26 - 23s - loss: 0.2084 - accuracy: 0.9303 - val_loss: 3.0507 - val_accuracy: 0.2935 - 23s/epoch - 882ms/step\n",
            "Epoch 19/30\n",
            "26/26 - 24s - loss: 0.0939 - accuracy: 0.9751 - val_loss: 3.4616 - val_accuracy: 0.2836 - 24s/epoch - 942ms/step\n",
            "Epoch 20/30\n",
            "26/26 - 23s - loss: 0.0663 - accuracy: 0.9826 - val_loss: 3.5065 - val_accuracy: 0.3035 - 23s/epoch - 903ms/step\n",
            "Epoch 21/30\n",
            "26/26 - 23s - loss: 0.0507 - accuracy: 0.9876 - val_loss: 3.6283 - val_accuracy: 0.2786 - 23s/epoch - 894ms/step\n",
            "Epoch 22/30\n",
            "26/26 - 23s - loss: 0.0319 - accuracy: 0.9913 - val_loss: 3.8824 - val_accuracy: 0.2736 - 23s/epoch - 891ms/step\n",
            "Epoch 23/30\n",
            "26/26 - 23s - loss: 0.0350 - accuracy: 0.9913 - val_loss: 4.0073 - val_accuracy: 0.2935 - 23s/epoch - 898ms/step\n",
            "Epoch 24/30\n",
            "26/26 - 25s - loss: 0.0414 - accuracy: 0.9913 - val_loss: 3.9629 - val_accuracy: 0.2786 - 25s/epoch - 951ms/step\n",
            "Epoch 25/30\n",
            "26/26 - 23s - loss: 0.0237 - accuracy: 0.9925 - val_loss: 3.9464 - val_accuracy: 0.2886 - 23s/epoch - 894ms/step\n",
            "Epoch 26/30\n",
            "26/26 - 23s - loss: 0.0206 - accuracy: 0.9963 - val_loss: 4.1086 - val_accuracy: 0.2886 - 23s/epoch - 902ms/step\n",
            "Epoch 27/30\n",
            "26/26 - 24s - loss: 0.0273 - accuracy: 0.9938 - val_loss: 4.1302 - val_accuracy: 0.2736 - 24s/epoch - 912ms/step\n",
            "Epoch 28/30\n",
            "26/26 - 24s - loss: 0.0233 - accuracy: 0.9925 - val_loss: 4.2743 - val_accuracy: 0.2587 - 24s/epoch - 906ms/step\n",
            "Epoch 29/30\n",
            "26/26 - 24s - loss: 0.0221 - accuracy: 0.9925 - val_loss: 4.2534 - val_accuracy: 0.2736 - 24s/epoch - 916ms/step\n",
            "Epoch 30/30\n",
            "26/26 - 25s - loss: 0.0201 - accuracy: 0.9963 - val_loss: 4.3540 - val_accuracy: 0.2687 - 25s/epoch - 965ms/step\n"
          ]
        }
      ],
      "source": [
        "num_epochs = 30\n",
        "history = model.fit(padded_latih, label_latih, epochs=num_epochs, \n",
        "                    validation_data=(padded_test, label_test), verbose=2)"
      ]
    },
    {
      "cell_type": "code",
      "execution_count": null,
      "metadata": {
        "id": "6zjj0wt0lh_G"
      },
      "outputs": [],
      "source": [
        "model = tf.keras.Sequential([\n",
        "    tf.keras.layers.Embedding(input_dim=5000, output_dim=16),\n",
        "    tf.keras.layers.LSTM(64, dropout=0.5, recurrent_dropout=0.5),\n",
        "    tf.keras.layers.Dense(128, activation='relu'),\n",
        "    tf.keras.layers.Dense(64, activation='relu'),\n",
        "    tf.keras.layers.Dense(5, activation='softmax')\n",
        "])\n",
        "model.compile(loss='categorical_crossentropy',optimizer='adam',metrics=['accuracy'])"
      ]
    },
    {
      "cell_type": "code",
      "execution_count": null,
      "metadata": {
        "colab": {
          "base_uri": "https://localhost:8080/"
        },
        "id": "PsuPdjENlh_O",
        "outputId": "4cce93d6-4a62-4b7d-a1e9-a9742dac686d"
      },
      "outputs": [
        {
          "name": "stdout",
          "output_type": "stream",
          "text": [
            "Epoch 1/30\n",
            "26/26 - 27s - loss: 1.6099 - accuracy: 0.1766 - val_loss: 1.6108 - val_accuracy: 0.1791 - 27s/epoch - 1s/step\n",
            "Epoch 2/30\n",
            "26/26 - 24s - loss: 1.6085 - accuracy: 0.2127 - val_loss: 1.6121 - val_accuracy: 0.1741 - 24s/epoch - 905ms/step\n",
            "Epoch 3/30\n",
            "26/26 - 23s - loss: 1.6047 - accuracy: 0.2301 - val_loss: 1.6089 - val_accuracy: 0.2090 - 23s/epoch - 899ms/step\n",
            "Epoch 4/30\n",
            "26/26 - 24s - loss: 1.5691 - accuracy: 0.3346 - val_loss: 1.6087 - val_accuracy: 0.2687 - 24s/epoch - 932ms/step\n",
            "Epoch 5/30\n",
            "26/26 - 25s - loss: 1.3281 - accuracy: 0.4627 - val_loss: 1.6946 - val_accuracy: 0.2886 - 25s/epoch - 949ms/step\n",
            "Epoch 6/30\n",
            "26/26 - 24s - loss: 1.1801 - accuracy: 0.5112 - val_loss: 1.6878 - val_accuracy: 0.2488 - 24s/epoch - 909ms/step\n",
            "Epoch 7/30\n",
            "26/26 - 24s - loss: 0.9199 - accuracy: 0.6493 - val_loss: 1.8903 - val_accuracy: 0.2985 - 24s/epoch - 922ms/step\n",
            "Epoch 8/30\n",
            "26/26 - 23s - loss: 0.7537 - accuracy: 0.7027 - val_loss: 2.0204 - val_accuracy: 0.2587 - 23s/epoch - 886ms/step\n",
            "Epoch 9/30\n",
            "26/26 - 24s - loss: 0.4895 - accuracy: 0.8221 - val_loss: 2.2659 - val_accuracy: 0.2935 - 24s/epoch - 912ms/step\n",
            "Epoch 10/30\n",
            "26/26 - 23s - loss: 0.3426 - accuracy: 0.8756 - val_loss: 2.4971 - val_accuracy: 0.2886 - 23s/epoch - 901ms/step\n",
            "Epoch 11/30\n",
            "26/26 - 24s - loss: 0.2115 - accuracy: 0.9279 - val_loss: 2.7832 - val_accuracy: 0.2886 - 24s/epoch - 940ms/step\n",
            "Epoch 12/30\n",
            "26/26 - 24s - loss: 0.1919 - accuracy: 0.9353 - val_loss: 2.9182 - val_accuracy: 0.2985 - 24s/epoch - 907ms/step\n",
            "Epoch 13/30\n",
            "26/26 - 24s - loss: 0.2269 - accuracy: 0.9129 - val_loss: 2.7388 - val_accuracy: 0.2786 - 24s/epoch - 919ms/step\n",
            "Epoch 14/30\n",
            "26/26 - 23s - loss: 0.1548 - accuracy: 0.9490 - val_loss: 3.0160 - val_accuracy: 0.2886 - 23s/epoch - 893ms/step\n",
            "Epoch 15/30\n",
            "26/26 - 24s - loss: 0.0984 - accuracy: 0.9677 - val_loss: 3.2519 - val_accuracy: 0.2736 - 24s/epoch - 913ms/step\n",
            "Epoch 16/30\n",
            "26/26 - 24s - loss: 0.0701 - accuracy: 0.9813 - val_loss: 3.4922 - val_accuracy: 0.2687 - 24s/epoch - 934ms/step\n",
            "Epoch 17/30\n",
            "26/26 - 23s - loss: 0.0708 - accuracy: 0.9739 - val_loss: 3.5010 - val_accuracy: 0.2935 - 23s/epoch - 903ms/step\n",
            "Epoch 18/30\n",
            "26/26 - 23s - loss: 0.0990 - accuracy: 0.9614 - val_loss: 3.3308 - val_accuracy: 0.3184 - 23s/epoch - 893ms/step\n",
            "Epoch 19/30\n",
            "26/26 - 24s - loss: 0.0470 - accuracy: 0.9863 - val_loss: 3.6110 - val_accuracy: 0.3284 - 24s/epoch - 910ms/step\n",
            "Epoch 20/30\n",
            "26/26 - 24s - loss: 0.0617 - accuracy: 0.9801 - val_loss: 3.6796 - val_accuracy: 0.3333 - 24s/epoch - 904ms/step\n",
            "Epoch 21/30\n",
            "26/26 - 25s - loss: 0.0657 - accuracy: 0.9776 - val_loss: 3.4765 - val_accuracy: 0.3035 - 25s/epoch - 963ms/step\n",
            "Epoch 22/30\n",
            "26/26 - 24s - loss: 0.0472 - accuracy: 0.9876 - val_loss: 3.6337 - val_accuracy: 0.3284 - 24s/epoch - 912ms/step\n",
            "Epoch 23/30\n",
            "26/26 - 24s - loss: 0.0403 - accuracy: 0.9863 - val_loss: 3.6486 - val_accuracy: 0.3134 - 24s/epoch - 911ms/step\n",
            "Epoch 24/30\n",
            "26/26 - 23s - loss: 0.0434 - accuracy: 0.9888 - val_loss: 3.7335 - val_accuracy: 0.3134 - 23s/epoch - 897ms/step\n",
            "Epoch 25/30\n",
            "26/26 - 23s - loss: 0.0438 - accuracy: 0.9851 - val_loss: 4.0292 - val_accuracy: 0.3184 - 23s/epoch - 902ms/step\n",
            "Epoch 26/30\n",
            "26/26 - 25s - loss: 0.0397 - accuracy: 0.9888 - val_loss: 3.8966 - val_accuracy: 0.3035 - 25s/epoch - 946ms/step\n",
            "Epoch 27/30\n",
            "26/26 - 23s - loss: 0.0770 - accuracy: 0.9726 - val_loss: 3.8474 - val_accuracy: 0.2786 - 23s/epoch - 903ms/step\n",
            "Epoch 28/30\n",
            "26/26 - 25s - loss: 0.0456 - accuracy: 0.9888 - val_loss: 3.9183 - val_accuracy: 0.3333 - 25s/epoch - 976ms/step\n",
            "Epoch 29/30\n",
            "26/26 - 24s - loss: 0.0310 - accuracy: 0.9913 - val_loss: 3.9156 - val_accuracy: 0.2985 - 24s/epoch - 905ms/step\n",
            "Epoch 30/30\n",
            "26/26 - 23s - loss: 0.0304 - accuracy: 0.9863 - val_loss: 3.9488 - val_accuracy: 0.2687 - 23s/epoch - 889ms/step\n"
          ]
        }
      ],
      "source": [
        "num_epochs = 30\n",
        "history = model.fit(padded_latih, label_latih, epochs=num_epochs, \n",
        "                    validation_data=(padded_test, label_test), verbose=2)"
      ]
    },
    {
      "cell_type": "code",
      "execution_count": null,
      "metadata": {
        "id": "A_6XjgO8ofrR"
      },
      "outputs": [],
      "source": [
        "model = tf.keras.Sequential([\n",
        "    tf.keras.layers.Embedding(input_dim=5000, output_dim=16),\n",
        "    tf.keras.layers.LSTM(64, dropout=0.9, recurrent_dropout=0.9),\n",
        "    tf.keras.layers.Dense(128, activation='relu'),\n",
        "    tf.keras.layers.Dense(64, activation='relu'),\n",
        "    tf.keras.layers.Dense(5, activation='softmax')\n",
        "])\n",
        "model.compile(loss='categorical_crossentropy',optimizer='adam',metrics=['accuracy'])"
      ]
    },
    {
      "cell_type": "code",
      "execution_count": null,
      "metadata": {
        "colab": {
          "base_uri": "https://localhost:8080/"
        },
        "id": "3rZGzV4xofrY",
        "outputId": "e502e31d-cf0c-4370-9329-a385c11b12e9"
      },
      "outputs": [
        {
          "name": "stdout",
          "output_type": "stream",
          "text": [
            "Epoch 1/30\n",
            "26/26 - 26s - loss: 1.6104 - accuracy: 0.1766 - val_loss: 1.6107 - val_accuracy: 0.1741 - 26s/epoch - 1s/step\n",
            "Epoch 2/30\n",
            "26/26 - 23s - loss: 1.6094 - accuracy: 0.2040 - val_loss: 1.6106 - val_accuracy: 0.1741 - 23s/epoch - 899ms/step\n",
            "Epoch 3/30\n",
            "26/26 - 24s - loss: 1.6089 - accuracy: 0.2077 - val_loss: 1.6108 - val_accuracy: 0.1940 - 24s/epoch - 906ms/step\n",
            "Epoch 4/30\n",
            "26/26 - 25s - loss: 1.6076 - accuracy: 0.2114 - val_loss: 1.6124 - val_accuracy: 0.2189 - 25s/epoch - 962ms/step\n",
            "Epoch 5/30\n",
            "26/26 - 23s - loss: 1.6082 - accuracy: 0.2077 - val_loss: 1.6121 - val_accuracy: 0.1841 - 23s/epoch - 894ms/step\n",
            "Epoch 6/30\n",
            "26/26 - 24s - loss: 1.6063 - accuracy: 0.2214 - val_loss: 1.6121 - val_accuracy: 0.2040 - 24s/epoch - 919ms/step\n",
            "Epoch 7/30\n",
            "26/26 - 24s - loss: 1.6011 - accuracy: 0.2500 - val_loss: 1.6143 - val_accuracy: 0.2338 - 24s/epoch - 910ms/step\n",
            "Epoch 8/30\n",
            "26/26 - 23s - loss: 1.5912 - accuracy: 0.2537 - val_loss: 1.6095 - val_accuracy: 0.2289 - 23s/epoch - 889ms/step\n",
            "Epoch 9/30\n",
            "26/26 - 23s - loss: 1.5709 - accuracy: 0.2836 - val_loss: 1.5993 - val_accuracy: 0.2438 - 23s/epoch - 889ms/step\n",
            "Epoch 10/30\n",
            "26/26 - 24s - loss: 1.5388 - accuracy: 0.3172 - val_loss: 1.6050 - val_accuracy: 0.2338 - 24s/epoch - 937ms/step\n",
            "Epoch 11/30\n",
            "26/26 - 23s - loss: 1.5048 - accuracy: 0.3371 - val_loss: 1.5720 - val_accuracy: 0.2786 - 23s/epoch - 896ms/step\n",
            "Epoch 12/30\n",
            "26/26 - 23s - loss: 1.4572 - accuracy: 0.3483 - val_loss: 1.5771 - val_accuracy: 0.2637 - 23s/epoch - 900ms/step\n",
            "Epoch 13/30\n",
            "26/26 - 24s - loss: 1.4025 - accuracy: 0.3843 - val_loss: 1.5453 - val_accuracy: 0.2935 - 24s/epoch - 908ms/step\n",
            "Epoch 14/30\n",
            "26/26 - 24s - loss: 1.3905 - accuracy: 0.3868 - val_loss: 1.5529 - val_accuracy: 0.2935 - 24s/epoch - 908ms/step\n",
            "Epoch 15/30\n",
            "26/26 - 24s - loss: 1.3445 - accuracy: 0.4129 - val_loss: 1.5591 - val_accuracy: 0.2687 - 24s/epoch - 928ms/step\n",
            "Epoch 16/30\n",
            "26/26 - 24s - loss: 1.2994 - accuracy: 0.4677 - val_loss: 1.6160 - val_accuracy: 0.2637 - 24s/epoch - 911ms/step\n",
            "Epoch 17/30\n",
            "26/26 - 24s - loss: 1.2517 - accuracy: 0.4739 - val_loss: 1.7540 - val_accuracy: 0.2985 - 24s/epoch - 917ms/step\n",
            "Epoch 18/30\n",
            "26/26 - 23s - loss: 1.2586 - accuracy: 0.4739 - val_loss: 1.5464 - val_accuracy: 0.2786 - 23s/epoch - 892ms/step\n",
            "Epoch 19/30\n",
            "26/26 - 24s - loss: 1.1581 - accuracy: 0.4950 - val_loss: 1.6874 - val_accuracy: 0.2886 - 24s/epoch - 914ms/step\n",
            "Epoch 20/30\n",
            "26/26 - 24s - loss: 1.1822 - accuracy: 0.4925 - val_loss: 1.5575 - val_accuracy: 0.2786 - 24s/epoch - 909ms/step\n",
            "Epoch 21/30\n",
            "26/26 - 25s - loss: 1.1470 - accuracy: 0.4863 - val_loss: 1.6193 - val_accuracy: 0.3085 - 25s/epoch - 944ms/step\n",
            "Epoch 22/30\n",
            "26/26 - 24s - loss: 1.1207 - accuracy: 0.5062 - val_loss: 1.7101 - val_accuracy: 0.2935 - 24s/epoch - 906ms/step\n",
            "Epoch 23/30\n",
            "26/26 - 24s - loss: 1.1432 - accuracy: 0.5373 - val_loss: 1.6221 - val_accuracy: 0.2836 - 24s/epoch - 913ms/step\n",
            "Epoch 24/30\n",
            "26/26 - 24s - loss: 1.0298 - accuracy: 0.5585 - val_loss: 1.6742 - val_accuracy: 0.2836 - 24s/epoch - 907ms/step\n",
            "Epoch 25/30\n",
            "26/26 - 24s - loss: 1.0137 - accuracy: 0.5672 - val_loss: 1.6789 - val_accuracy: 0.2935 - 24s/epoch - 912ms/step\n",
            "Epoch 26/30\n",
            "26/26 - 24s - loss: 0.9893 - accuracy: 0.5784 - val_loss: 1.7074 - val_accuracy: 0.2935 - 24s/epoch - 934ms/step\n",
            "Epoch 27/30\n",
            "26/26 - 24s - loss: 0.9990 - accuracy: 0.5647 - val_loss: 1.6431 - val_accuracy: 0.3284 - 24s/epoch - 934ms/step\n",
            "Epoch 28/30\n",
            "26/26 - 24s - loss: 0.9677 - accuracy: 0.5908 - val_loss: 1.6798 - val_accuracy: 0.3184 - 24s/epoch - 910ms/step\n",
            "Epoch 29/30\n",
            "26/26 - 23s - loss: 0.9661 - accuracy: 0.5784 - val_loss: 1.6603 - val_accuracy: 0.3184 - 23s/epoch - 887ms/step\n",
            "Epoch 30/30\n",
            "26/26 - 24s - loss: 0.9197 - accuracy: 0.5945 - val_loss: 1.6879 - val_accuracy: 0.2985 - 24s/epoch - 917ms/step\n"
          ]
        }
      ],
      "source": [
        "num_epochs = 30\n",
        "history = model.fit(padded_latih, label_latih, epochs=num_epochs, \n",
        "                    validation_data=(padded_test, label_test), verbose=2)"
      ]
    },
    {
      "cell_type": "code",
      "execution_count": null,
      "metadata": {
        "id": "fPu8IgsMexB1"
      },
      "outputs": [],
      "source": [
        "model = tf.keras.Sequential([\n",
        "    tf.keras.layers.Embedding(input_dim=5000, output_dim=16),\n",
        "    tf.keras.layers.LSTM(64, dropout=0.7, recurrent_dropout=0.7),\n",
        "    tf.keras.layers.Dense(128, activation='relu'),\n",
        "    tf.keras.layers.Dense(64, activation='relu'),\n",
        "    tf.keras.layers.Dense(5, activation='softmax')\n",
        "])\n",
        "model.compile(loss='categorical_crossentropy',optimizer='adam',metrics=['accuracy'])"
      ]
    },
    {
      "cell_type": "code",
      "execution_count": null,
      "metadata": {
        "colab": {
          "background_save": true,
          "base_uri": "https://localhost:8080/"
        },
        "id": "MBBk3BWfexB_",
        "outputId": "554a0004-2029-4dc6-9c0b-26703d3040a1"
      },
      "outputs": [
        {
          "name": "stdout",
          "output_type": "stream",
          "text": [
            "Epoch 1/30\n",
            "26/26 - 70s - loss: 1.6102 - accuracy: 0.1915 - val_loss: 1.6102 - val_accuracy: 0.1592 - 70s/epoch - 3s/step\n",
            "Epoch 2/30\n",
            "26/26 - 67s - loss: 1.6085 - accuracy: 0.2326 - val_loss: 1.6095 - val_accuracy: 0.1891 - 67s/epoch - 3s/step\n",
            "Epoch 3/30\n",
            "26/26 - 67s - loss: 1.6042 - accuracy: 0.2512 - val_loss: 1.6124 - val_accuracy: 0.1692 - 67s/epoch - 3s/step\n",
            "Epoch 4/30\n",
            "26/26 - 66s - loss: 1.5734 - accuracy: 0.2861 - val_loss: 1.6151 - val_accuracy: 0.2040 - 66s/epoch - 3s/step\n",
            "Epoch 5/30\n",
            "26/26 - 68s - loss: 1.4666 - accuracy: 0.3433 - val_loss: 1.5925 - val_accuracy: 0.2139 - 68s/epoch - 3s/step\n",
            "Epoch 6/30\n",
            "26/26 - 66s - loss: 1.3536 - accuracy: 0.3818 - val_loss: 1.5813 - val_accuracy: 0.2189 - 66s/epoch - 3s/step\n",
            "Epoch 7/30\n",
            "26/26 - 69s - loss: 1.2570 - accuracy: 0.4229 - val_loss: 1.6250 - val_accuracy: 0.3035 - 69s/epoch - 3s/step\n",
            "Epoch 8/30\n",
            "26/26 - 66s - loss: 1.1267 - accuracy: 0.5149 - val_loss: 1.7133 - val_accuracy: 0.2239 - 66s/epoch - 3s/step\n",
            "Epoch 9/30\n",
            "26/26 - 67s - loss: 1.0392 - accuracy: 0.5547 - val_loss: 1.7120 - val_accuracy: 0.2537 - 67s/epoch - 3s/step\n",
            "Epoch 10/30\n",
            "26/26 - 66s - loss: 0.9346 - accuracy: 0.6045 - val_loss: 1.7901 - val_accuracy: 0.2736 - 66s/epoch - 3s/step\n",
            "Epoch 11/30\n",
            "26/26 - 65s - loss: 0.8903 - accuracy: 0.6418 - val_loss: 1.8610 - val_accuracy: 0.2537 - 65s/epoch - 2s/step\n",
            "Epoch 12/30\n",
            "26/26 - 66s - loss: 0.7653 - accuracy: 0.6841 - val_loss: 1.8797 - val_accuracy: 0.2587 - 66s/epoch - 3s/step\n",
            "Epoch 13/30\n",
            "26/26 - 66s - loss: 0.6517 - accuracy: 0.7276 - val_loss: 1.9627 - val_accuracy: 0.2388 - 66s/epoch - 3s/step\n",
            "Epoch 14/30\n",
            "26/26 - 68s - loss: 0.6109 - accuracy: 0.7550 - val_loss: 1.9767 - val_accuracy: 0.2736 - 68s/epoch - 3s/step\n",
            "Epoch 15/30\n",
            "26/26 - 66s - loss: 0.5856 - accuracy: 0.7923 - val_loss: 2.0027 - val_accuracy: 0.2886 - 66s/epoch - 3s/step\n",
            "Epoch 16/30\n",
            "26/26 - 65s - loss: 0.5088 - accuracy: 0.8122 - val_loss: 2.0585 - val_accuracy: 0.2836 - 65s/epoch - 3s/step\n",
            "Epoch 17/30\n",
            "26/26 - 65s - loss: 0.4690 - accuracy: 0.8209 - val_loss: 2.1443 - val_accuracy: 0.2886 - 65s/epoch - 3s/step\n",
            "Epoch 18/30\n",
            "26/26 - 65s - loss: 0.4164 - accuracy: 0.8595 - val_loss: 2.1401 - val_accuracy: 0.3184 - 65s/epoch - 2s/step\n",
            "Epoch 19/30\n",
            "26/26 - 66s - loss: 0.3417 - accuracy: 0.8843 - val_loss: 2.2639 - val_accuracy: 0.3085 - 66s/epoch - 3s/step\n",
            "Epoch 20/30\n",
            "26/26 - 64s - loss: 0.2857 - accuracy: 0.9080 - val_loss: 2.3444 - val_accuracy: 0.3035 - 64s/epoch - 2s/step\n",
            "Epoch 21/30\n",
            "26/26 - 65s - loss: 0.2953 - accuracy: 0.9067 - val_loss: 2.3157 - val_accuracy: 0.3134 - 65s/epoch - 2s/step\n",
            "Epoch 22/30\n",
            "26/26 - 64s - loss: 0.2517 - accuracy: 0.9055 - val_loss: 2.3320 - val_accuracy: 0.3184 - 64s/epoch - 2s/step\n",
            "Epoch 23/30\n",
            "26/26 - 65s - loss: 0.2702 - accuracy: 0.9080 - val_loss: 2.3386 - val_accuracy: 0.3234 - 65s/epoch - 2s/step\n",
            "Epoch 24/30\n",
            "26/26 - 68s - loss: 0.2158 - accuracy: 0.9229 - val_loss: 2.3940 - val_accuracy: 0.3532 - 68s/epoch - 3s/step\n",
            "Epoch 25/30\n",
            "26/26 - 67s - loss: 0.2807 - accuracy: 0.9080 - val_loss: 2.2587 - val_accuracy: 0.3632 - 67s/epoch - 3s/step\n",
            "Epoch 26/30\n",
            "26/26 - 66s - loss: 0.2030 - accuracy: 0.9366 - val_loss: 2.3909 - val_accuracy: 0.3433 - 66s/epoch - 3s/step\n",
            "Epoch 27/30\n",
            "26/26 - 65s - loss: 0.2160 - accuracy: 0.9391 - val_loss: 2.4132 - val_accuracy: 0.3184 - 65s/epoch - 2s/step\n",
            "Epoch 28/30\n",
            "26/26 - 64s - loss: 0.1792 - accuracy: 0.9428 - val_loss: 2.5063 - val_accuracy: 0.3333 - 64s/epoch - 2s/step\n",
            "Epoch 29/30\n",
            "26/26 - 65s - loss: 0.1892 - accuracy: 0.9291 - val_loss: 2.4381 - val_accuracy: 0.3234 - 65s/epoch - 3s/step\n",
            "Epoch 30/30\n",
            "26/26 - 64s - loss: 0.1642 - accuracy: 0.9478 - val_loss: 2.6631 - val_accuracy: 0.3582 - 64s/epoch - 2s/step\n"
          ]
        }
      ],
      "source": [
        "num_epochs = 30\n",
        "history = model.fit(padded_latih, label_latih, epochs=num_epochs, \n",
        "                    validation_data=(padded_test, label_test), verbose=2)"
      ]
    },
    {
      "cell_type": "code",
      "execution_count": null,
      "metadata": {
        "colab": {
          "base_uri": "https://localhost:8080/"
        },
        "id": "GgMM7wrNZBtl",
        "outputId": "ba2546aa-a846-45ce-a636-ecaeb7aa93cd"
      },
      "outputs": [
        {
          "data": {
            "text/plain": [
              "963"
            ]
          },
          "execution_count": 27,
          "metadata": {},
          "output_type": "execute_result"
        }
      ],
      "source": [
        "cobo = ['Dalam perjalanan pulang naik kereta di Jerman Arini (Aura Kasih) mahasiswa 38 tahun bertemu dengan Nick (Morgan Oey) 15 tahun lebih muda yang melakukan perjalanan backpacking keliling Eropa. Nick jatuh cinta pada pandangan pertama dan segera saja berusaha masuk ke dalam hidup Arini sementara Arini yang tak lagi percaya akan cinta tak mampu menerima Nick. Beberapa bulan kemudian Arini kembali ke Indonesia dan diangkat menjadi CEO di perusahaan tempatnya bekerja. Nick yang terdesak oleh perasaan cintanya pada Arini menyusulnya pulang ke Yogyakarta meninggalkan kuliahnya di London. Di kota inilah mereka memulai kembali hubungan mereka berhadapan-hadapan dengan masa lalu gelap Arini bersama mantan suaminya Helmi (Haydar Salishz) dan sahabatnya Ira (Olga Lydia). Seumur hidupnya Arini menyesali pertemuannya dengan Ira di kereta menuju Yogyakarta beberapa tahun silam sementara Nick terus berusaha membuat Arini mengingat pertemuan mereka di kereta di Jerman']\n",
        "len(cobo[0])"
      ]
    },
    {
      "cell_type": "code",
      "execution_count": null,
      "metadata": {
        "colab": {
          "base_uri": "https://localhost:8080/",
          "height": 767
        },
        "id": "qEFrN63EYfCd",
        "outputId": "65043a4e-479b-4ed9-9d39-972c63f4b1cf"
      },
      "outputs": [
        {
          "name": "stderr",
          "output_type": "stream",
          "text": [
            "WARNING:tensorflow:Model was constructed with shape (None, None) for input KerasTensor(type_spec=TensorSpec(shape=(None, None), dtype=tf.float32, name='embedding_input'), name='embedding_input', description=\"created by layer 'embedding_input'\"), but it was called on an input with incompatible shape (None,).\n"
          ]
        },
        {
          "ename": "ValueError",
          "evalue": "ignored",
          "output_type": "error",
          "traceback": [
            "\u001b[0;31m---------------------------------------------------------------------------\u001b[0m",
            "\u001b[0;31mValueError\u001b[0m                                Traceback (most recent call last)",
            "\u001b[0;32m<ipython-input-29-4755f56ca3e0>\u001b[0m in \u001b[0;36m<module>\u001b[0;34m\u001b[0m\n\u001b[0;32m----> 1\u001b[0;31m \u001b[0mhasil\u001b[0m \u001b[0;34m=\u001b[0m \u001b[0mmodel\u001b[0m\u001b[0;34m.\u001b[0m\u001b[0mpredict\u001b[0m\u001b[0;34m(\u001b[0m\u001b[0mcobo\u001b[0m\u001b[0;34m)\u001b[0m\u001b[0;34m\u001b[0m\u001b[0;34m\u001b[0m\u001b[0m\n\u001b[0m\u001b[1;32m      2\u001b[0m \u001b[0mhasil\u001b[0m\u001b[0;34m\u001b[0m\u001b[0;34m\u001b[0m\u001b[0m\n",
            "\u001b[0;32m/usr/local/lib/python3.7/dist-packages/keras/utils/traceback_utils.py\u001b[0m in \u001b[0;36merror_handler\u001b[0;34m(*args, **kwargs)\u001b[0m\n\u001b[1;32m     65\u001b[0m     \u001b[0;32mexcept\u001b[0m \u001b[0mException\u001b[0m \u001b[0;32mas\u001b[0m \u001b[0me\u001b[0m\u001b[0;34m:\u001b[0m  \u001b[0;31m# pylint: disable=broad-except\u001b[0m\u001b[0;34m\u001b[0m\u001b[0;34m\u001b[0m\u001b[0m\n\u001b[1;32m     66\u001b[0m       \u001b[0mfiltered_tb\u001b[0m \u001b[0;34m=\u001b[0m \u001b[0m_process_traceback_frames\u001b[0m\u001b[0;34m(\u001b[0m\u001b[0me\u001b[0m\u001b[0;34m.\u001b[0m\u001b[0m__traceback__\u001b[0m\u001b[0;34m)\u001b[0m\u001b[0;34m\u001b[0m\u001b[0;34m\u001b[0m\u001b[0m\n\u001b[0;32m---> 67\u001b[0;31m       \u001b[0;32mraise\u001b[0m \u001b[0me\u001b[0m\u001b[0;34m.\u001b[0m\u001b[0mwith_traceback\u001b[0m\u001b[0;34m(\u001b[0m\u001b[0mfiltered_tb\u001b[0m\u001b[0;34m)\u001b[0m \u001b[0;32mfrom\u001b[0m \u001b[0;32mNone\u001b[0m\u001b[0;34m\u001b[0m\u001b[0;34m\u001b[0m\u001b[0m\n\u001b[0m\u001b[1;32m     68\u001b[0m     \u001b[0;32mfinally\u001b[0m\u001b[0;34m:\u001b[0m\u001b[0;34m\u001b[0m\u001b[0;34m\u001b[0m\u001b[0m\n\u001b[1;32m     69\u001b[0m       \u001b[0;32mdel\u001b[0m \u001b[0mfiltered_tb\u001b[0m\u001b[0;34m\u001b[0m\u001b[0;34m\u001b[0m\u001b[0m\n",
            "\u001b[0;32m/usr/local/lib/python3.7/dist-packages/tensorflow/python/framework/func_graph.py\u001b[0m in \u001b[0;36mautograph_handler\u001b[0;34m(*args, **kwargs)\u001b[0m\n\u001b[1;32m   1145\u001b[0m           \u001b[0;32mexcept\u001b[0m \u001b[0mException\u001b[0m \u001b[0;32mas\u001b[0m \u001b[0me\u001b[0m\u001b[0;34m:\u001b[0m  \u001b[0;31m# pylint:disable=broad-except\u001b[0m\u001b[0;34m\u001b[0m\u001b[0;34m\u001b[0m\u001b[0m\n\u001b[1;32m   1146\u001b[0m             \u001b[0;32mif\u001b[0m \u001b[0mhasattr\u001b[0m\u001b[0;34m(\u001b[0m\u001b[0me\u001b[0m\u001b[0;34m,\u001b[0m \u001b[0;34m\"ag_error_metadata\"\u001b[0m\u001b[0;34m)\u001b[0m\u001b[0;34m:\u001b[0m\u001b[0;34m\u001b[0m\u001b[0;34m\u001b[0m\u001b[0m\n\u001b[0;32m-> 1147\u001b[0;31m               \u001b[0;32mraise\u001b[0m \u001b[0me\u001b[0m\u001b[0;34m.\u001b[0m\u001b[0mag_error_metadata\u001b[0m\u001b[0;34m.\u001b[0m\u001b[0mto_exception\u001b[0m\u001b[0;34m(\u001b[0m\u001b[0me\u001b[0m\u001b[0;34m)\u001b[0m\u001b[0;34m\u001b[0m\u001b[0;34m\u001b[0m\u001b[0m\n\u001b[0m\u001b[1;32m   1148\u001b[0m             \u001b[0;32melse\u001b[0m\u001b[0;34m:\u001b[0m\u001b[0;34m\u001b[0m\u001b[0;34m\u001b[0m\u001b[0m\n\u001b[1;32m   1149\u001b[0m               \u001b[0;32mraise\u001b[0m\u001b[0;34m\u001b[0m\u001b[0;34m\u001b[0m\u001b[0m\n",
            "\u001b[0;31mValueError\u001b[0m: in user code:\n\n    File \"/usr/local/lib/python3.7/dist-packages/keras/engine/training.py\", line 1801, in predict_function  *\n        return step_function(self, iterator)\n    File \"/usr/local/lib/python3.7/dist-packages/keras/engine/training.py\", line 1790, in step_function  **\n        outputs = model.distribute_strategy.run(run_step, args=(data,))\n    File \"/usr/local/lib/python3.7/dist-packages/keras/engine/training.py\", line 1783, in run_step  **\n        outputs = model.predict_step(data)\n    File \"/usr/local/lib/python3.7/dist-packages/keras/engine/training.py\", line 1751, in predict_step\n        return self(x, training=False)\n    File \"/usr/local/lib/python3.7/dist-packages/keras/utils/traceback_utils.py\", line 67, in error_handler\n        raise e.with_traceback(filtered_tb) from None\n    File \"/usr/local/lib/python3.7/dist-packages/keras/engine/input_spec.py\", line 214, in assert_input_compatibility\n        raise ValueError(f'Input {input_index} of layer \"{layer_name}\" '\n\n    ValueError: Exception encountered when calling layer \"sequential\" (type Sequential).\n    \n    Input 0 of layer \"lstm\" is incompatible with the layer: expected ndim=3, found ndim=2. Full shape received: (None, 16)\n    \n    Call arguments received:\n      • inputs=tf.Tensor(shape=(None,), dtype=string)\n      • training=False\n      • mask=None\n"
          ]
        }
      ],
      "source": [
        "hasil = model.predict(cobo)\n",
        "hasil"
      ]
    }
  ],
  "metadata": {
    "colab": {
      "collapsed_sections": [],
      "provenance": [],
      "authorship_tag": "ABX9TyNkTEUpu5hmc/XbLTHPSCiZ",
      "include_colab_link": true
    },
    "gpuClass": "standard",
    "kernelspec": {
      "display_name": "Python 3",
      "name": "python3"
    },
    "language_info": {
      "name": "python"
    }
  },
  "nbformat": 4,
  "nbformat_minor": 0
}