{
  "nbformat": 4,
  "nbformat_minor": 0,
  "metadata": {
    "colab": {
      "name": "Binary Text Classification.ipynb",
      "provenance": [],
      "collapsed_sections": [],
      "authorship_tag": "ABX9TyMDLaS9rZ2UuMGgQeAGsH7W",
      "include_colab_link": true
    },
    "kernelspec": {
      "name": "python3",
      "display_name": "Python 3"
    },
    "language_info": {
      "name": "python"
    }
  },
  "cells": [
    {
      "cell_type": "markdown",
      "metadata": {
        "id": "view-in-github",
        "colab_type": "text"
      },
      "source": [
        "<a href=\"https://colab.research.google.com/github/manabil/Machine_Learning_Intermediate/blob/main/3-%20Natural%20Language%20Processing/3B-%20Binary%20Text%20Classification.ipynb\" target=\"_parent\"><img src=\"https://colab.research.google.com/assets/colab-badge.svg\" alt=\"Open In Colab\"/></a>"
      ]
    },
    {
      "cell_type": "code",
      "source": [
        "import pandas as pd\n",
        "from sklearn.model_selection import train_test_split\n",
        "from tensorflow.keras.preprocessing.text import Tokenizer\n",
        "from tensorflow.keras.preprocessing.sequence import pad_sequences\n",
        "import tensorflow as tf"
      ],
      "metadata": {
        "id": "mS2VwN_zxWdu"
      },
      "execution_count": 68,
      "outputs": []
    },
    {
      "cell_type": "code",
      "source": [
        "df = pd.read_csv('yelp_labelled.txt', names=['sentence', 'label'], sep='\\t')\n",
        "df.tail()"
      ],
      "metadata": {
        "colab": {
          "base_uri": "https://localhost:8080/",
          "height": 206
        },
        "id": "2X9A70nqyhWL",
        "outputId": "99058e49-937a-40d6-ff0c-b75f41aeff55"
      },
      "execution_count": 69,
      "outputs": [
        {
          "output_type": "execute_result",
          "data": {
            "text/plain": [
              "                                              sentence  label\n",
              "995  I think food should have flavor and texture an...      0\n",
              "996                           Appetite instantly gone.      0\n",
              "997  Overall I was not impressed and would not go b...      0\n",
              "998  The whole experience was underwhelming, and I ...      0\n",
              "999  Then, as if I hadn't wasted enough of my life ...      0"
            ],
            "text/html": [
              "\n",
              "  <div id=\"df-f8bcbd33-18f0-4fd6-9793-e366cf1f6c17\">\n",
              "    <div class=\"colab-df-container\">\n",
              "      <div>\n",
              "<style scoped>\n",
              "    .dataframe tbody tr th:only-of-type {\n",
              "        vertical-align: middle;\n",
              "    }\n",
              "\n",
              "    .dataframe tbody tr th {\n",
              "        vertical-align: top;\n",
              "    }\n",
              "\n",
              "    .dataframe thead th {\n",
              "        text-align: right;\n",
              "    }\n",
              "</style>\n",
              "<table border=\"1\" class=\"dataframe\">\n",
              "  <thead>\n",
              "    <tr style=\"text-align: right;\">\n",
              "      <th></th>\n",
              "      <th>sentence</th>\n",
              "      <th>label</th>\n",
              "    </tr>\n",
              "  </thead>\n",
              "  <tbody>\n",
              "    <tr>\n",
              "      <th>995</th>\n",
              "      <td>I think food should have flavor and texture an...</td>\n",
              "      <td>0</td>\n",
              "    </tr>\n",
              "    <tr>\n",
              "      <th>996</th>\n",
              "      <td>Appetite instantly gone.</td>\n",
              "      <td>0</td>\n",
              "    </tr>\n",
              "    <tr>\n",
              "      <th>997</th>\n",
              "      <td>Overall I was not impressed and would not go b...</td>\n",
              "      <td>0</td>\n",
              "    </tr>\n",
              "    <tr>\n",
              "      <th>998</th>\n",
              "      <td>The whole experience was underwhelming, and I ...</td>\n",
              "      <td>0</td>\n",
              "    </tr>\n",
              "    <tr>\n",
              "      <th>999</th>\n",
              "      <td>Then, as if I hadn't wasted enough of my life ...</td>\n",
              "      <td>0</td>\n",
              "    </tr>\n",
              "  </tbody>\n",
              "</table>\n",
              "</div>\n",
              "      <button class=\"colab-df-convert\" onclick=\"convertToInteractive('df-f8bcbd33-18f0-4fd6-9793-e366cf1f6c17')\"\n",
              "              title=\"Convert this dataframe to an interactive table.\"\n",
              "              style=\"display:none;\">\n",
              "        \n",
              "  <svg xmlns=\"http://www.w3.org/2000/svg\" height=\"24px\"viewBox=\"0 0 24 24\"\n",
              "       width=\"24px\">\n",
              "    <path d=\"M0 0h24v24H0V0z\" fill=\"none\"/>\n",
              "    <path d=\"M18.56 5.44l.94 2.06.94-2.06 2.06-.94-2.06-.94-.94-2.06-.94 2.06-2.06.94zm-11 1L8.5 8.5l.94-2.06 2.06-.94-2.06-.94L8.5 2.5l-.94 2.06-2.06.94zm10 10l.94 2.06.94-2.06 2.06-.94-2.06-.94-.94-2.06-.94 2.06-2.06.94z\"/><path d=\"M17.41 7.96l-1.37-1.37c-.4-.4-.92-.59-1.43-.59-.52 0-1.04.2-1.43.59L10.3 9.45l-7.72 7.72c-.78.78-.78 2.05 0 2.83L4 21.41c.39.39.9.59 1.41.59.51 0 1.02-.2 1.41-.59l7.78-7.78 2.81-2.81c.8-.78.8-2.07 0-2.86zM5.41 20L4 18.59l7.72-7.72 1.47 1.35L5.41 20z\"/>\n",
              "  </svg>\n",
              "      </button>\n",
              "      \n",
              "  <style>\n",
              "    .colab-df-container {\n",
              "      display:flex;\n",
              "      flex-wrap:wrap;\n",
              "      gap: 12px;\n",
              "    }\n",
              "\n",
              "    .colab-df-convert {\n",
              "      background-color: #E8F0FE;\n",
              "      border: none;\n",
              "      border-radius: 50%;\n",
              "      cursor: pointer;\n",
              "      display: none;\n",
              "      fill: #1967D2;\n",
              "      height: 32px;\n",
              "      padding: 0 0 0 0;\n",
              "      width: 32px;\n",
              "    }\n",
              "\n",
              "    .colab-df-convert:hover {\n",
              "      background-color: #E2EBFA;\n",
              "      box-shadow: 0px 1px 2px rgba(60, 64, 67, 0.3), 0px 1px 3px 1px rgba(60, 64, 67, 0.15);\n",
              "      fill: #174EA6;\n",
              "    }\n",
              "\n",
              "    [theme=dark] .colab-df-convert {\n",
              "      background-color: #3B4455;\n",
              "      fill: #D2E3FC;\n",
              "    }\n",
              "\n",
              "    [theme=dark] .colab-df-convert:hover {\n",
              "      background-color: #434B5C;\n",
              "      box-shadow: 0px 1px 3px 1px rgba(0, 0, 0, 0.15);\n",
              "      filter: drop-shadow(0px 1px 2px rgba(0, 0, 0, 0.3));\n",
              "      fill: #FFFFFF;\n",
              "    }\n",
              "  </style>\n",
              "\n",
              "      <script>\n",
              "        const buttonEl =\n",
              "          document.querySelector('#df-f8bcbd33-18f0-4fd6-9793-e366cf1f6c17 button.colab-df-convert');\n",
              "        buttonEl.style.display =\n",
              "          google.colab.kernel.accessAllowed ? 'block' : 'none';\n",
              "\n",
              "        async function convertToInteractive(key) {\n",
              "          const element = document.querySelector('#df-f8bcbd33-18f0-4fd6-9793-e366cf1f6c17');\n",
              "          const dataTable =\n",
              "            await google.colab.kernel.invokeFunction('convertToInteractive',\n",
              "                                                     [key], {});\n",
              "          if (!dataTable) return;\n",
              "\n",
              "          const docLinkHtml = 'Like what you see? Visit the ' +\n",
              "            '<a target=\"_blank\" href=https://colab.research.google.com/notebooks/data_table.ipynb>data table notebook</a>'\n",
              "            + ' to learn more about interactive tables.';\n",
              "          element.innerHTML = '';\n",
              "          dataTable['output_type'] = 'display_data';\n",
              "          await google.colab.output.renderOutput(dataTable, element);\n",
              "          const docLink = document.createElement('div');\n",
              "          docLink.innerHTML = docLinkHtml;\n",
              "          element.appendChild(docLink);\n",
              "        }\n",
              "      </script>\n",
              "    </div>\n",
              "  </div>\n",
              "  "
            ]
          },
          "metadata": {},
          "execution_count": 69
        }
      ]
    },
    {
      "cell_type": "code",
      "source": [
        "kalimat = df['sentence'].values\n",
        "y = df['label'].values\n",
        "kalimat_latih, kalimat_test, y_latih, y_test = train_test_split(kalimat, y, test_size=0.2)"
      ],
      "metadata": {
        "id": "zJ_XoABUxXfG"
      },
      "execution_count": 70,
      "outputs": []
    },
    {
      "cell_type": "code",
      "source": [
        "tokenizer = Tokenizer(num_words=250, oov_token='x')\n",
        "tokenizer.fit_on_texts(kalimat_latih) \n",
        "tokenizer.fit_on_texts(kalimat_test)\n",
        "    \n",
        "sekuens_latih = tokenizer.texts_to_sequences(kalimat_latih)\n",
        "sekuens_test = tokenizer.texts_to_sequences(kalimat_test)\n",
        "    \n",
        "padded_latih = pad_sequences(sekuens_latih, maxlen=32) \n",
        "padded_test = pad_sequences(sekuens_test, maxlen=32)"
      ],
      "metadata": {
        "id": "7yyrIqeYy_O1"
      },
      "execution_count": 71,
      "outputs": []
    },
    {
      "cell_type": "code",
      "source": [
        "len_sekuens_latih = []\n",
        "len_sekuens_test = []\n",
        "for i in sekuens_latih: len_sekuens_latih.append(len(i))\n",
        "for i in sekuens_latih: len_sekuens_test.append(len(i))\n",
        "print(max(len_sekuens_latih))\n",
        "print(max(len_sekuens_test))\n",
        "print(padded_latih.shape)\n",
        "print(padded_test.shape)"
      ],
      "metadata": {
        "colab": {
          "base_uri": "https://localhost:8080/"
        },
        "id": "cp12nxyLzLQj",
        "outputId": "7051d83b-c0f6-40c9-a03a-b98a07cc9eea"
      },
      "execution_count": 72,
      "outputs": [
        {
          "output_type": "stream",
          "name": "stdout",
          "text": [
            "30\n",
            "30\n",
            "(800, 32)\n",
            "(200, 32)\n"
          ]
        }
      ]
    },
    {
      "cell_type": "code",
      "source": [
        "model = tf.keras.Sequential([\n",
        "    tf.keras.layers.Embedding(250, 16, input_length=32),\n",
        "    tf.keras.layers.GlobalAveragePooling1D(),\n",
        "    tf.keras.layers.Dense(24, activation='relu'),\n",
        "    tf.keras.layers.Dense(1, activation='sigmoid')\n",
        "])\n",
        "model.compile(loss='binary_crossentropy',optimizer='adam',metrics=['accuracy'])\n",
        "model.summary()"
      ],
      "metadata": {
        "colab": {
          "base_uri": "https://localhost:8080/"
        },
        "id": "xUFAs_ohKVLU",
        "outputId": "3b9bd2f7-67ee-40d3-f8f1-9f71fc62c0b2"
      },
      "execution_count": 73,
      "outputs": [
        {
          "output_type": "stream",
          "name": "stdout",
          "text": [
            "Model: \"sequential_7\"\n",
            "_________________________________________________________________\n",
            " Layer (type)                Output Shape              Param #   \n",
            "=================================================================\n",
            " embedding_7 (Embedding)     (None, 32, 16)            4000      \n",
            "                                                                 \n",
            " global_average_pooling1d_7   (None, 16)               0         \n",
            " (GlobalAveragePooling1D)                                        \n",
            "                                                                 \n",
            " dense_14 (Dense)            (None, 24)                408       \n",
            "                                                                 \n",
            " dense_15 (Dense)            (None, 1)                 25        \n",
            "                                                                 \n",
            "=================================================================\n",
            "Total params: 4,433\n",
            "Trainable params: 4,433\n",
            "Non-trainable params: 0\n",
            "_________________________________________________________________\n"
          ]
        }
      ]
    },
    {
      "cell_type": "code",
      "source": [
        "num_epochs = 30\n",
        "history = model.fit(padded_latih, y_latih, epochs=num_epochs, \n",
        "                    validation_data=(padded_test, y_test), verbose=2)"
      ],
      "metadata": {
        "colab": {
          "base_uri": "https://localhost:8080/"
        },
        "id": "4UebuaqfKd1L",
        "outputId": "97d8ac4f-15a7-4347-83f7-0f77738a8f20"
      },
      "execution_count": 74,
      "outputs": [
        {
          "output_type": "stream",
          "name": "stdout",
          "text": [
            "Epoch 1/30\n",
            "25/25 - 1s - loss: 0.6928 - accuracy: 0.5387 - val_loss: 0.6920 - val_accuracy: 0.5450 - 702ms/epoch - 28ms/step\n",
            "Epoch 2/30\n",
            "25/25 - 0s - loss: 0.6910 - accuracy: 0.5987 - val_loss: 0.6903 - val_accuracy: 0.6050 - 76ms/epoch - 3ms/step\n",
            "Epoch 3/30\n",
            "25/25 - 0s - loss: 0.6888 - accuracy: 0.6212 - val_loss: 0.6879 - val_accuracy: 0.6150 - 65ms/epoch - 3ms/step\n",
            "Epoch 4/30\n",
            "25/25 - 0s - loss: 0.6858 - accuracy: 0.6625 - val_loss: 0.6844 - val_accuracy: 0.6400 - 62ms/epoch - 2ms/step\n",
            "Epoch 5/30\n",
            "25/25 - 0s - loss: 0.6805 - accuracy: 0.6862 - val_loss: 0.6803 - val_accuracy: 0.6350 - 79ms/epoch - 3ms/step\n",
            "Epoch 6/30\n",
            "25/25 - 0s - loss: 0.6739 - accuracy: 0.6988 - val_loss: 0.6726 - val_accuracy: 0.6500 - 78ms/epoch - 3ms/step\n",
            "Epoch 7/30\n",
            "25/25 - 0s - loss: 0.6635 - accuracy: 0.6975 - val_loss: 0.6631 - val_accuracy: 0.6650 - 65ms/epoch - 3ms/step\n",
            "Epoch 8/30\n",
            "25/25 - 0s - loss: 0.6496 - accuracy: 0.7325 - val_loss: 0.6505 - val_accuracy: 0.6850 - 66ms/epoch - 3ms/step\n",
            "Epoch 9/30\n",
            "25/25 - 0s - loss: 0.6325 - accuracy: 0.7475 - val_loss: 0.6369 - val_accuracy: 0.6800 - 89ms/epoch - 4ms/step\n",
            "Epoch 10/30\n",
            "25/25 - 0s - loss: 0.6116 - accuracy: 0.7513 - val_loss: 0.6182 - val_accuracy: 0.7250 - 66ms/epoch - 3ms/step\n",
            "Epoch 11/30\n",
            "25/25 - 0s - loss: 0.5883 - accuracy: 0.7713 - val_loss: 0.6006 - val_accuracy: 0.7200 - 65ms/epoch - 3ms/step\n",
            "Epoch 12/30\n",
            "25/25 - 0s - loss: 0.5615 - accuracy: 0.7800 - val_loss: 0.5855 - val_accuracy: 0.6950 - 75ms/epoch - 3ms/step\n",
            "Epoch 13/30\n",
            "25/25 - 0s - loss: 0.5351 - accuracy: 0.7987 - val_loss: 0.5632 - val_accuracy: 0.7450 - 77ms/epoch - 3ms/step\n",
            "Epoch 14/30\n",
            "25/25 - 0s - loss: 0.5089 - accuracy: 0.8138 - val_loss: 0.5491 - val_accuracy: 0.7300 - 78ms/epoch - 3ms/step\n",
            "Epoch 15/30\n",
            "25/25 - 0s - loss: 0.4835 - accuracy: 0.8300 - val_loss: 0.5321 - val_accuracy: 0.7450 - 65ms/epoch - 3ms/step\n",
            "Epoch 16/30\n",
            "25/25 - 0s - loss: 0.4602 - accuracy: 0.8313 - val_loss: 0.5188 - val_accuracy: 0.7550 - 77ms/epoch - 3ms/step\n",
            "Epoch 17/30\n",
            "25/25 - 0s - loss: 0.4394 - accuracy: 0.8413 - val_loss: 0.5063 - val_accuracy: 0.7550 - 71ms/epoch - 3ms/step\n",
            "Epoch 18/30\n",
            "25/25 - 0s - loss: 0.4180 - accuracy: 0.8413 - val_loss: 0.5003 - val_accuracy: 0.7400 - 69ms/epoch - 3ms/step\n",
            "Epoch 19/30\n",
            "25/25 - 0s - loss: 0.4010 - accuracy: 0.8512 - val_loss: 0.4890 - val_accuracy: 0.7550 - 81ms/epoch - 3ms/step\n",
            "Epoch 20/30\n",
            "25/25 - 0s - loss: 0.3839 - accuracy: 0.8500 - val_loss: 0.4914 - val_accuracy: 0.7450 - 92ms/epoch - 4ms/step\n",
            "Epoch 21/30\n",
            "25/25 - 0s - loss: 0.3712 - accuracy: 0.8512 - val_loss: 0.4888 - val_accuracy: 0.7550 - 78ms/epoch - 3ms/step\n",
            "Epoch 22/30\n",
            "25/25 - 0s - loss: 0.3567 - accuracy: 0.8625 - val_loss: 0.4771 - val_accuracy: 0.7450 - 61ms/epoch - 2ms/step\n",
            "Epoch 23/30\n",
            "25/25 - 0s - loss: 0.3458 - accuracy: 0.8650 - val_loss: 0.4962 - val_accuracy: 0.7200 - 82ms/epoch - 3ms/step\n",
            "Epoch 24/30\n",
            "25/25 - 0s - loss: 0.3383 - accuracy: 0.8625 - val_loss: 0.4723 - val_accuracy: 0.7500 - 77ms/epoch - 3ms/step\n",
            "Epoch 25/30\n",
            "25/25 - 0s - loss: 0.3259 - accuracy: 0.8675 - val_loss: 0.4701 - val_accuracy: 0.7650 - 72ms/epoch - 3ms/step\n",
            "Epoch 26/30\n",
            "25/25 - 0s - loss: 0.3148 - accuracy: 0.8737 - val_loss: 0.4693 - val_accuracy: 0.7700 - 77ms/epoch - 3ms/step\n",
            "Epoch 27/30\n",
            "25/25 - 0s - loss: 0.3078 - accuracy: 0.8737 - val_loss: 0.4734 - val_accuracy: 0.7550 - 65ms/epoch - 3ms/step\n",
            "Epoch 28/30\n",
            "25/25 - 0s - loss: 0.3025 - accuracy: 0.8788 - val_loss: 0.4784 - val_accuracy: 0.7550 - 69ms/epoch - 3ms/step\n",
            "Epoch 29/30\n",
            "25/25 - 0s - loss: 0.2966 - accuracy: 0.8863 - val_loss: 0.4818 - val_accuracy: 0.7650 - 78ms/epoch - 3ms/step\n",
            "Epoch 30/30\n",
            "25/25 - 0s - loss: 0.2913 - accuracy: 0.8825 - val_loss: 0.4762 - val_accuracy: 0.7700 - 84ms/epoch - 3ms/step\n"
          ]
        }
      ]
    },
    {
      "cell_type": "code",
      "source": [],
      "metadata": {
        "id": "9GOzTWWlKgHL"
      },
      "execution_count": 74,
      "outputs": []
    }
  ]
}