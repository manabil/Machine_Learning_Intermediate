{
  "cells": [
    {
      "cell_type": "markdown",
      "metadata": {
        "id": "view-in-github",
        "colab_type": "text"
      },
      "source": [
        "<a href=\"https://colab.research.google.com/github/manabil/Machine_Learning_Intermediate/blob/main/3-%20Natural%20Language%20Processing/3G-%20NLP%20Multiclass%20Text%20Classification.ipynb\" target=\"_parent\"><img src=\"https://colab.research.google.com/assets/colab-badge.svg\" alt=\"Open In Colab\"/></a>"
      ]
    },
    {
      "cell_type": "markdown",
      "source": [
        "> * Nama : Muhammad Ammar Nabil\n",
        "* Kelas : M03\n",
        "* email : mammarnabil1@gmail.com"
      ],
      "metadata": {
        "id": "3OpGaBlUoZRl"
      }
    },
    {
      "cell_type": "code",
      "execution_count": null,
      "metadata": {
        "id": "zzlaXOzZVU7A"
      },
      "outputs": [],
      "source": [
        "import pandas as pd\n",
        "import numpy as np\n",
        "import matplotlib.pyplot as plt\n",
        "from sklearn.model_selection import train_test_split\n",
        "from tensorflow.keras import Sequential\n",
        "from tensorflow.keras.regularizers import L1, L2, L1L2\n",
        "from tensorflow.keras.callbacks import EarlyStopping, CSVLogger\n",
        "from tensorflow.keras.preprocessing.text import Tokenizer\n",
        "from tensorflow.keras.preprocessing.sequence import pad_sequences\n",
        "from tensorflow.keras.layers import Embedding, Dense, GlobalAveragePooling1D, Bidirectional, LSTM, Dropout"
      ]
    },
    {
      "cell_type": "code",
      "execution_count": null,
      "metadata": {
        "id": "uoHraI-cVcUb",
        "colab": {
          "base_uri": "https://localhost:8080/"
        },
        "collapsed": true,
        "outputId": "cbd8d11d-f06e-43d1-8f3d-0e8b254c15c1"
      },
      "outputs": [
        {
          "output_type": "execute_result",
          "data": {
            "text/plain": [
              "joy         6761\n",
              "sadness     5797\n",
              "anger       2709\n",
              "fear        2373\n",
              "love        1641\n",
              "surprise     719\n",
              "Name: label, dtype: int64"
            ]
          },
          "metadata": {},
          "execution_count": 3
        }
      ],
      "source": [
        "# Open file\n",
        "raw = pd.read_csv('emotions.txt', names=['sentences', 'label'], sep=';')\n",
        "raw.label.value_counts()"
      ]
    },
    {
      "cell_type": "code",
      "execution_count": null,
      "metadata": {
        "colab": {
          "base_uri": "https://localhost:8080/",
          "height": 424
        },
        "id": "u7Zy9YEBVfan",
        "outputId": "aadcb944-a71a-419e-f221-c2714087e2c5",
        "collapsed": true
      },
      "outputs": [
        {
          "output_type": "execute_result",
          "data": {
            "text/plain": [
              "                                               sentences  anger  fear  joy  \\\n",
              "0      im feeling quite sad and sorry for myself but ...      0     0    0   \n",
              "1      i feel like i am still looking at a blank canv...      0     0    0   \n",
              "2                         i feel like a faithful servant      0     0    0   \n",
              "3                      i am just feeling cranky and blue      1     0    0   \n",
              "4      i can have for a treat or if i am feeling festive      0     0    1   \n",
              "...                                                  ...    ...   ...  ...   \n",
              "19995  i just had a very brief time in the beanbag an...      0     0    0   \n",
              "19996  i am now turning and i feel pathetic that i am...      0     0    0   \n",
              "19997                     i feel strong and good overall      0     0    1   \n",
              "19998  i feel like this was such a rude comment and i...      1     0    0   \n",
              "19999  i know a lot but i feel so stupid because i ca...      0     0    0   \n",
              "\n",
              "       love  sadness  surprise  \n",
              "0         0        1         0  \n",
              "1         0        1         0  \n",
              "2         1        0         0  \n",
              "3         0        0         0  \n",
              "4         0        0         0  \n",
              "...     ...      ...       ...  \n",
              "19995     0        1         0  \n",
              "19996     0        1         0  \n",
              "19997     0        0         0  \n",
              "19998     0        0         0  \n",
              "19999     0        1         0  \n",
              "\n",
              "[20000 rows x 7 columns]"
            ],
            "text/html": [
              "\n",
              "  <div id=\"df-fc09489c-616d-4e9f-8d51-6d0ddf24b35b\">\n",
              "    <div class=\"colab-df-container\">\n",
              "      <div>\n",
              "<style scoped>\n",
              "    .dataframe tbody tr th:only-of-type {\n",
              "        vertical-align: middle;\n",
              "    }\n",
              "\n",
              "    .dataframe tbody tr th {\n",
              "        vertical-align: top;\n",
              "    }\n",
              "\n",
              "    .dataframe thead th {\n",
              "        text-align: right;\n",
              "    }\n",
              "</style>\n",
              "<table border=\"1\" class=\"dataframe\">\n",
              "  <thead>\n",
              "    <tr style=\"text-align: right;\">\n",
              "      <th></th>\n",
              "      <th>sentences</th>\n",
              "      <th>anger</th>\n",
              "      <th>fear</th>\n",
              "      <th>joy</th>\n",
              "      <th>love</th>\n",
              "      <th>sadness</th>\n",
              "      <th>surprise</th>\n",
              "    </tr>\n",
              "  </thead>\n",
              "  <tbody>\n",
              "    <tr>\n",
              "      <th>0</th>\n",
              "      <td>im feeling quite sad and sorry for myself but ...</td>\n",
              "      <td>0</td>\n",
              "      <td>0</td>\n",
              "      <td>0</td>\n",
              "      <td>0</td>\n",
              "      <td>1</td>\n",
              "      <td>0</td>\n",
              "    </tr>\n",
              "    <tr>\n",
              "      <th>1</th>\n",
              "      <td>i feel like i am still looking at a blank canv...</td>\n",
              "      <td>0</td>\n",
              "      <td>0</td>\n",
              "      <td>0</td>\n",
              "      <td>0</td>\n",
              "      <td>1</td>\n",
              "      <td>0</td>\n",
              "    </tr>\n",
              "    <tr>\n",
              "      <th>2</th>\n",
              "      <td>i feel like a faithful servant</td>\n",
              "      <td>0</td>\n",
              "      <td>0</td>\n",
              "      <td>0</td>\n",
              "      <td>1</td>\n",
              "      <td>0</td>\n",
              "      <td>0</td>\n",
              "    </tr>\n",
              "    <tr>\n",
              "      <th>3</th>\n",
              "      <td>i am just feeling cranky and blue</td>\n",
              "      <td>1</td>\n",
              "      <td>0</td>\n",
              "      <td>0</td>\n",
              "      <td>0</td>\n",
              "      <td>0</td>\n",
              "      <td>0</td>\n",
              "    </tr>\n",
              "    <tr>\n",
              "      <th>4</th>\n",
              "      <td>i can have for a treat or if i am feeling festive</td>\n",
              "      <td>0</td>\n",
              "      <td>0</td>\n",
              "      <td>1</td>\n",
              "      <td>0</td>\n",
              "      <td>0</td>\n",
              "      <td>0</td>\n",
              "    </tr>\n",
              "    <tr>\n",
              "      <th>...</th>\n",
              "      <td>...</td>\n",
              "      <td>...</td>\n",
              "      <td>...</td>\n",
              "      <td>...</td>\n",
              "      <td>...</td>\n",
              "      <td>...</td>\n",
              "      <td>...</td>\n",
              "    </tr>\n",
              "    <tr>\n",
              "      <th>19995</th>\n",
              "      <td>i just had a very brief time in the beanbag an...</td>\n",
              "      <td>0</td>\n",
              "      <td>0</td>\n",
              "      <td>0</td>\n",
              "      <td>0</td>\n",
              "      <td>1</td>\n",
              "      <td>0</td>\n",
              "    </tr>\n",
              "    <tr>\n",
              "      <th>19996</th>\n",
              "      <td>i am now turning and i feel pathetic that i am...</td>\n",
              "      <td>0</td>\n",
              "      <td>0</td>\n",
              "      <td>0</td>\n",
              "      <td>0</td>\n",
              "      <td>1</td>\n",
              "      <td>0</td>\n",
              "    </tr>\n",
              "    <tr>\n",
              "      <th>19997</th>\n",
              "      <td>i feel strong and good overall</td>\n",
              "      <td>0</td>\n",
              "      <td>0</td>\n",
              "      <td>1</td>\n",
              "      <td>0</td>\n",
              "      <td>0</td>\n",
              "      <td>0</td>\n",
              "    </tr>\n",
              "    <tr>\n",
              "      <th>19998</th>\n",
              "      <td>i feel like this was such a rude comment and i...</td>\n",
              "      <td>1</td>\n",
              "      <td>0</td>\n",
              "      <td>0</td>\n",
              "      <td>0</td>\n",
              "      <td>0</td>\n",
              "      <td>0</td>\n",
              "    </tr>\n",
              "    <tr>\n",
              "      <th>19999</th>\n",
              "      <td>i know a lot but i feel so stupid because i ca...</td>\n",
              "      <td>0</td>\n",
              "      <td>0</td>\n",
              "      <td>0</td>\n",
              "      <td>0</td>\n",
              "      <td>1</td>\n",
              "      <td>0</td>\n",
              "    </tr>\n",
              "  </tbody>\n",
              "</table>\n",
              "<p>20000 rows × 7 columns</p>\n",
              "</div>\n",
              "      <button class=\"colab-df-convert\" onclick=\"convertToInteractive('df-fc09489c-616d-4e9f-8d51-6d0ddf24b35b')\"\n",
              "              title=\"Convert this dataframe to an interactive table.\"\n",
              "              style=\"display:none;\">\n",
              "        \n",
              "  <svg xmlns=\"http://www.w3.org/2000/svg\" height=\"24px\"viewBox=\"0 0 24 24\"\n",
              "       width=\"24px\">\n",
              "    <path d=\"M0 0h24v24H0V0z\" fill=\"none\"/>\n",
              "    <path d=\"M18.56 5.44l.94 2.06.94-2.06 2.06-.94-2.06-.94-.94-2.06-.94 2.06-2.06.94zm-11 1L8.5 8.5l.94-2.06 2.06-.94-2.06-.94L8.5 2.5l-.94 2.06-2.06.94zm10 10l.94 2.06.94-2.06 2.06-.94-2.06-.94-.94-2.06-.94 2.06-2.06.94z\"/><path d=\"M17.41 7.96l-1.37-1.37c-.4-.4-.92-.59-1.43-.59-.52 0-1.04.2-1.43.59L10.3 9.45l-7.72 7.72c-.78.78-.78 2.05 0 2.83L4 21.41c.39.39.9.59 1.41.59.51 0 1.02-.2 1.41-.59l7.78-7.78 2.81-2.81c.8-.78.8-2.07 0-2.86zM5.41 20L4 18.59l7.72-7.72 1.47 1.35L5.41 20z\"/>\n",
              "  </svg>\n",
              "      </button>\n",
              "      \n",
              "  <style>\n",
              "    .colab-df-container {\n",
              "      display:flex;\n",
              "      flex-wrap:wrap;\n",
              "      gap: 12px;\n",
              "    }\n",
              "\n",
              "    .colab-df-convert {\n",
              "      background-color: #E8F0FE;\n",
              "      border: none;\n",
              "      border-radius: 50%;\n",
              "      cursor: pointer;\n",
              "      display: none;\n",
              "      fill: #1967D2;\n",
              "      height: 32px;\n",
              "      padding: 0 0 0 0;\n",
              "      width: 32px;\n",
              "    }\n",
              "\n",
              "    .colab-df-convert:hover {\n",
              "      background-color: #E2EBFA;\n",
              "      box-shadow: 0px 1px 2px rgba(60, 64, 67, 0.3), 0px 1px 3px 1px rgba(60, 64, 67, 0.15);\n",
              "      fill: #174EA6;\n",
              "    }\n",
              "\n",
              "    [theme=dark] .colab-df-convert {\n",
              "      background-color: #3B4455;\n",
              "      fill: #D2E3FC;\n",
              "    }\n",
              "\n",
              "    [theme=dark] .colab-df-convert:hover {\n",
              "      background-color: #434B5C;\n",
              "      box-shadow: 0px 1px 3px 1px rgba(0, 0, 0, 0.15);\n",
              "      filter: drop-shadow(0px 1px 2px rgba(0, 0, 0, 0.3));\n",
              "      fill: #FFFFFF;\n",
              "    }\n",
              "  </style>\n",
              "\n",
              "      <script>\n",
              "        const buttonEl =\n",
              "          document.querySelector('#df-fc09489c-616d-4e9f-8d51-6d0ddf24b35b button.colab-df-convert');\n",
              "        buttonEl.style.display =\n",
              "          google.colab.kernel.accessAllowed ? 'block' : 'none';\n",
              "\n",
              "        async function convertToInteractive(key) {\n",
              "          const element = document.querySelector('#df-fc09489c-616d-4e9f-8d51-6d0ddf24b35b');\n",
              "          const dataTable =\n",
              "            await google.colab.kernel.invokeFunction('convertToInteractive',\n",
              "                                                     [key], {});\n",
              "          if (!dataTable) return;\n",
              "\n",
              "          const docLinkHtml = 'Like what you see? Visit the ' +\n",
              "            '<a target=\"_blank\" href=https://colab.research.google.com/notebooks/data_table.ipynb>data table notebook</a>'\n",
              "            + ' to learn more about interactive tables.';\n",
              "          element.innerHTML = '';\n",
              "          dataTable['output_type'] = 'display_data';\n",
              "          await google.colab.output.renderOutput(dataTable, element);\n",
              "          const docLink = document.createElement('div');\n",
              "          docLink.innerHTML = docLinkHtml;\n",
              "          element.appendChild(docLink);\n",
              "        }\n",
              "      </script>\n",
              "    </div>\n",
              "  </div>\n",
              "  "
            ]
          },
          "metadata": {},
          "execution_count": 4
        }
      ],
      "source": [
        "# One Hot Category\n",
        "category = pd.get_dummies(raw.label)\n",
        "dataset = pd.concat([raw, category], axis=1)\n",
        "dataset = dataset.drop(columns='label')\n",
        "dataset"
      ]
    },
    {
      "cell_type": "code",
      "execution_count": null,
      "metadata": {
        "id": "CkSF0Ff5Vhzj"
      },
      "outputs": [],
      "source": [
        "# Separate Data and label\n",
        "sentences = dataset['sentences'].values\n",
        "label = dataset[['anger', 'fear', 'joy', 'love', 'sadness', 'surprise']].values"
      ]
    },
    {
      "cell_type": "code",
      "execution_count": null,
      "metadata": {
        "id": "_eN1138YVkUw"
      },
      "outputs": [],
      "source": [
        "# Split data train and data test\n",
        "sentences_latih, sentences_test, label_latih, label_test = train_test_split(sentences, label, test_size=0.2)"
      ]
    },
    {
      "cell_type": "code",
      "source": [
        "# Required Hyperparameter\n",
        "vocab_size = 20000\n",
        "embedding_dim = 64\n",
        "trunc_type='post'\n",
        "padding_type='post'\n",
        "oov_tok = \"<OOV>\"\n",
        "training_size = 20000"
      ],
      "metadata": {
        "id": "6KBUUb7B4wML"
      },
      "execution_count": null,
      "outputs": []
    },
    {
      "cell_type": "code",
      "execution_count": null,
      "metadata": {
        "id": "UNGEQep5VnV5",
        "colab": {
          "base_uri": "https://localhost:8080/"
        },
        "outputId": "2cbd617b-44a3-484d-8962-378f58630f10",
        "collapsed": true
      },
      "outputs": [
        {
          "output_type": "stream",
          "name": "stdout",
          "text": [
            "Max Sequences\t= 66 word\n",
            "Word Total\t= 17097 word\n",
            "(66,)\n",
            "(66,)\n"
          ]
        }
      ],
      "source": [
        "# Create Tokenizer\n",
        "tokenizer = Tokenizer(num_words=vocab_size, oov_token=oov_tok)\n",
        "tokenizer.fit_on_texts(sentences_latih) \n",
        "tokenizer.fit_on_texts(sentences_test)\n",
        "    \n",
        "# Create Sequnces\n",
        "sekuens_latih = tokenizer.texts_to_sequences(sentences_latih)\n",
        "sekuens_test = tokenizer.texts_to_sequences(sentences_test)\n",
        "\n",
        "# Choose Max Sequences\n",
        "max_sequence_latih = max([len(x) for x in sekuens_latih])\n",
        "max_sequence_test = max([len(x) for x in sekuens_test])\n",
        "max_length = max_sequence_latih if max_sequence_latih > max_sequence_test else max_sequence_test\n",
        "print(f'Max Sequences\\t= {max_length} word')\n",
        "    \n",
        "# Padding Sequences\n",
        "padded_latih = pad_sequences(sekuens_latih, maxlen=max_length, padding=padding_type, truncating=trunc_type) \n",
        "padded_test = pad_sequences(sekuens_test, maxlen=max_length, padding=padding_type, truncating=trunc_type)\n",
        "\n",
        "total_word = len(tokenizer.word_index)\n",
        "print(f'Word Total\\t= {total_word} word')\n",
        "print(padded_latih[0].shape)\n",
        "print(padded_test[0].shape)"
      ]
    },
    {
      "cell_type": "code",
      "source": [
        "# Create Callback\n",
        "callbacks= [\n",
        "    EarlyStopping('val_loss', 0.002, 3, 1),\n",
        "    CSVLogger('log/logging.csv', ';')\n",
        "]"
      ],
      "metadata": {
        "id": "JISpTqj7QmE9"
      },
      "execution_count": null,
      "outputs": []
    },
    {
      "cell_type": "code",
      "execution_count": null,
      "metadata": {
        "id": "akWsp6UqVtFG",
        "colab": {
          "base_uri": "https://localhost:8080/"
        },
        "outputId": "f6150dee-2b7d-42c4-f1e9-1a5b332183ea"
      },
      "outputs": [
        {
          "output_type": "stream",
          "name": "stdout",
          "text": [
            "Model: \"sequential_2\"\n",
            "_________________________________________________________________\n",
            " Layer (type)                Output Shape              Param #   \n",
            "=================================================================\n",
            " embedding_2 (Embedding)     (None, 66, 64)            1280000   \n",
            "                                                                 \n",
            " dropout_2 (Dropout)         (None, 66, 64)            0         \n",
            "                                                                 \n",
            " bidirectional_4 (Bidirectio  (None, 66, 20)           6000      \n",
            " nal)                                                            \n",
            "                                                                 \n",
            " bidirectional_5 (Bidirectio  (None, 20)               2480      \n",
            " nal)                                                            \n",
            "                                                                 \n",
            " dense_4 (Dense)             (None, 24)                504       \n",
            "                                                                 \n",
            " dense_5 (Dense)             (None, 6)                 150       \n",
            "                                                                 \n",
            "=================================================================\n",
            "Total params: 1,289,134\n",
            "Trainable params: 1,289,134\n",
            "Non-trainable params: 0\n",
            "_________________________________________________________________\n"
          ]
        }
      ],
      "source": [
        "# Create Model\n",
        "model = Sequential([\n",
        "    Embedding(vocab_size, embedding_dim, input_length=max_length),\n",
        "    Dropout(0.6),\n",
        "    Bidirectional(LSTM(10, return_sequences=True)),\n",
        "    Bidirectional(LSTM(10)),\n",
        "    Dense(24, activation='relu', kernel_regularizer=L1(0.00025)),\n",
        "    Dense(6, activation='softmax')\n",
        "])\n",
        "\n",
        "# Compile Model\n",
        "model.compile(loss='categorical_crossentropy',optimizer='adam',metrics=['accuracy'])\n",
        "model.summary()"
      ]
    },
    {
      "cell_type": "code",
      "execution_count": null,
      "metadata": {
        "colab": {
          "base_uri": "https://localhost:8080/"
        },
        "id": "dXqbdUW6VyjQ",
        "outputId": "4c88a978-a537-4c9c-9c0d-d97714803a7b",
        "collapsed": true
      },
      "outputs": [
        {
          "output_type": "stream",
          "name": "stdout",
          "text": [
            "Epoch 1/20\n",
            "500/500 [==============================] - 48s 80ms/step - loss: 1.5143 - accuracy: 0.4200 - val_loss: 1.1782 - val_accuracy: 0.5683\n",
            "Epoch 2/20\n",
            "500/500 [==============================] - 37s 75ms/step - loss: 0.9316 - accuracy: 0.6625 - val_loss: 0.7069 - val_accuracy: 0.7635\n",
            "Epoch 3/20\n",
            "500/500 [==============================] - 37s 75ms/step - loss: 0.5907 - accuracy: 0.8033 - val_loss: 0.5266 - val_accuracy: 0.8303\n",
            "Epoch 4/20\n",
            "500/500 [==============================] - 39s 78ms/step - loss: 0.4329 - accuracy: 0.8581 - val_loss: 0.4208 - val_accuracy: 0.8615\n",
            "Epoch 5/20\n",
            "500/500 [==============================] - 38s 75ms/step - loss: 0.3376 - accuracy: 0.8876 - val_loss: 0.3692 - val_accuracy: 0.8773\n",
            "Epoch 6/20\n",
            "500/500 [==============================] - 38s 75ms/step - loss: 0.2888 - accuracy: 0.9051 - val_loss: 0.3498 - val_accuracy: 0.8917\n",
            "Epoch 7/20\n",
            "500/500 [==============================] - 39s 78ms/step - loss: 0.2461 - accuracy: 0.9222 - val_loss: 0.3170 - val_accuracy: 0.8982\n",
            "Epoch 8/20\n",
            "500/500 [==============================] - 38s 76ms/step - loss: 0.2131 - accuracy: 0.9365 - val_loss: 0.3276 - val_accuracy: 0.9005\n",
            "Epoch 9/20\n",
            "500/500 [==============================] - 38s 75ms/step - loss: 0.2122 - accuracy: 0.9359 - val_loss: 0.3645 - val_accuracy: 0.8975\n",
            "Epoch 10/20\n",
            "500/500 [==============================] - 37s 75ms/step - loss: 0.1785 - accuracy: 0.9480 - val_loss: 0.3099 - val_accuracy: 0.9087\n",
            "Epoch 11/20\n",
            "500/500 [==============================] - 39s 78ms/step - loss: 0.1553 - accuracy: 0.9552 - val_loss: 0.3176 - val_accuracy: 0.9040\n",
            "Epoch 12/20\n",
            "500/500 [==============================] - 38s 75ms/step - loss: 0.1391 - accuracy: 0.9597 - val_loss: 0.3360 - val_accuracy: 0.9020\n",
            "Epoch 13/20\n",
            "500/500 [==============================] - 38s 76ms/step - loss: 0.1261 - accuracy: 0.9641 - val_loss: 0.3285 - val_accuracy: 0.9030\n",
            "Epoch 13: early stopping\n"
          ]
        }
      ],
      "source": [
        "num_epochs = 20\n",
        "history = model.fit(padded_latih, label_latih, epochs=num_epochs, \n",
        "                    validation_data=(padded_test, label_test),\n",
        "                    callbacks=callbacks)"
      ]
    },
    {
      "cell_type": "code",
      "source": [
        "# Plot Accuracy and error\n",
        "plt.style.use('dark_background')\n",
        "\n",
        "# PLOT AKURASI\n",
        "plt.title('Model Accuracy')\n",
        "plt.plot(history.history['accuracy'], '#1f77b4')\n",
        "plt.plot(history.history['val_accuracy'], '#ff7f0e')\n",
        "plt.ylabel('Accuracy')\n",
        "plt.xlabel('Epochs')\n",
        "plt.legend(['Train', 'Validation'], loc='lower right')\n",
        "plt.show()\n",
        "\n",
        "# PLOT LOSS\n",
        "plt.title('Model Loss')\n",
        "plt.plot(history.history['loss'], '#1f77b4')\n",
        "plt.plot(history.history['val_loss'], '#ff7f0e')\n",
        "plt.ylabel('Loss')\n",
        "plt.xlabel('Epochs')\n",
        "plt.legend(['Train', 'Validation'], loc='upper right')\n",
        "plt.show()"
      ],
      "metadata": {
        "colab": {
          "base_uri": "https://localhost:8080/",
          "height": 573
        },
        "id": "j1SCvdYyYjjp",
        "outputId": "2b29a40e-6a76-476a-96e3-3efe33484aa0"
      },
      "execution_count": null,
      "outputs": [
        {
          "output_type": "display_data",
          "data": {
            "text/plain": [
              "<Figure size 432x288 with 1 Axes>"
            ],
            "image/png": "[encoded data removed]"
          },
          "metadata": {}
        },
        {
          "output_type": "display_data",
          "data": {
            "text/plain": [
              "<Figure size 432x288 with 1 Axes>"
            ],
            "image/png": "[encoded data removed]"
          },
          "metadata": {}
        }
      ]
    },
    {
      "metadata": {
        "id": "N4vDT3Eeft2i",
        "trusted": true,
        "colab": {
          "base_uri": "https://localhost:8080/"
        },
        "outputId": "119f21d1-6964-4d92-ea70-6f5550a8473d"
      },
      "cell_type": "code",
      "source": [
        "# Make function predict\n",
        "def get_label(value: str) -> str:\n",
        "    sentences = [value]\n",
        "    sequences = tokenizer.texts_to_sequences(sentences)\n",
        "    sequences_pad = pad_sequences(sequences, maxlen=max_length, padding='post')\n",
        "    prediction = model.predict(sequences_pad)\n",
        "    max = 0\n",
        "    label = ['anger', 'fear', 'joy', 'love', 'sadness', 'surprise']\n",
        "    for i in prediction[0].tolist():\n",
        "        if max < i:\n",
        "            max = i\n",
        "    return label[prediction[0].tolist().index(max)]\n",
        "\n",
        "print(f\"You're emotion is {get_label(str(input('Enter your sentences: ')))}\")"
      ],
      "execution_count": null,
      "outputs": [
        {
          "output_type": "stream",
          "name": "stdout",
          "text": [
            "Enter your sentences: the sky look grey\n",
            "You're emotion is sadness\n"
          ]
        }
      ]
    }
  ],
  "metadata": {
    "colab": {
      "collapsed_sections": [],
      "provenance": [],
      "authorship_tag": "ABX9TyP3QXvV4ErHhHFcepTQAErG",
      "include_colab_link": true
    },
    "gpuClass": "standard",
    "kernelspec": {
      "display_name": "Python 3",
      "name": "python3"
    },
    "language_info": {
      "name": "python"
    }
  },
  "nbformat": 4,
  "nbformat_minor": 0
}