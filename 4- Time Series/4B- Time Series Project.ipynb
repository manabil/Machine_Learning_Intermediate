{
  "nbformat": 4,
  "nbformat_minor": 0,
  "metadata": {
    "colab": {
      "provenance": [],
      "collapsed_sections": [
        "bBlwq0QdiXk_"
      ],
      "authorship_tag": "ABX9TyPaeOMeyxMHfWxAvB2C9Y7G",
      "include_colab_link": true
    },
    "kernelspec": {
      "name": "python3",
      "display_name": "Python 3"
    },
    "language_info": {
      "name": "python"
    }
  },
  "cells": [
    {
      "cell_type": "markdown",
      "metadata": {
        "id": "view-in-github",
        "colab_type": "text"
      },
      "source": [
        "<a href=\"https://colab.research.google.com/github/manabil/Machine_Learning_Intermediate/blob/main/4-%20Time%20Series/4B-%20Time%20Series%20Project.ipynb\" target=\"_parent\"><img src=\"https://colab.research.google.com/assets/colab-badge.svg\" alt=\"Open In Colab\"/></a>"
      ]
    },
    {
      "cell_type": "markdown",
      "source": [
        "> Nama : Muhammad Ammar Nabil<br>\n",
        "Kelas : M03<br>\n",
        "email : mammarnabil1@gmail.com"
      ],
      "metadata": {
        "id": "tbDN02Hhhjl6"
      }
    },
    {
      "cell_type": "markdown",
      "source": [
        "## 1. Preprocessing Data\n",
        "---"
      ],
      "metadata": {
        "id": "bBlwq0QdiXk_"
      }
    },
    {
      "cell_type": "code",
      "execution_count": null,
      "metadata": {
        "id": "qCtPsiuJ7y9k"
      },
      "outputs": [],
      "source": [
        "import numpy as np\n",
        "import pandas as pd\n",
        "import tensorflow as tf\n",
        "import matplotlib.pyplot as plt\n",
        "from keras.layers import Dense, LSTM\n",
        "from sklearn.model_selection import train_test_split\n",
        "from sklearn.preprocessing import StandardScaler, MinMaxScaler"
      ]
    },
    {
      "cell_type": "code",
      "source": [
        "# Read File\n",
        "dataset = pd.read_csv('temperature.csv')\n",
        "dataset.head()"
      ],
      "metadata": {
        "colab": {
          "base_uri": "https://localhost:8080/",
          "height": 404
        },
        "id": "MOrrfLs68E9q",
        "outputId": "00a6549a-5ba0-4ba8-db2f-0f8e951ad23f",
        "collapsed": true
      },
      "execution_count": null,
      "outputs": [
        {
          "output_type": "execute_result",
          "data": {
            "text/plain": [
              "              datetime   Vancouver    Portland  San Francisco     Seattle  \\\n",
              "0  2012-10-01 12:00:00         NaN         NaN            NaN         NaN   \n",
              "1  2012-10-01 13:00:00  284.630000  282.080000     289.480000  281.800000   \n",
              "2  2012-10-01 14:00:00  284.629041  282.083252     289.474993  281.797217   \n",
              "3  2012-10-01 15:00:00  284.626998  282.091866     289.460618  281.789833   \n",
              "4  2012-10-01 16:00:00  284.624955  282.100481     289.446243  281.782449   \n",
              "\n",
              "   Los Angeles   San Diego   Las Vegas     Phoenix  Albuquerque  ...  \\\n",
              "0          NaN         NaN         NaN         NaN          NaN  ...   \n",
              "1   291.870000  291.530000  293.410000  296.600000   285.120000  ...   \n",
              "2   291.868186  291.533501  293.403141  296.608509   285.154558  ...   \n",
              "3   291.862844  291.543355  293.392177  296.631487   285.233952  ...   \n",
              "4   291.857503  291.553209  293.381213  296.654466   285.313345  ...   \n",
              "\n",
              "   Philadelphia    New York    Montreal      Boston   Beersheba  \\\n",
              "0           NaN         NaN         NaN         NaN         NaN   \n",
              "1    285.630000  288.220000  285.830000  287.170000  307.590000   \n",
              "2    285.663208  288.247676  285.834650  287.186092  307.590000   \n",
              "3    285.756824  288.326940  285.847790  287.231672  307.391513   \n",
              "4    285.850440  288.406203  285.860929  287.277251  307.145200   \n",
              "\n",
              "   Tel Aviv District       Eilat  Haifa  Nahariyya  Jerusalem  \n",
              "0                NaN  309.100000    NaN        NaN        NaN  \n",
              "1         305.470000  310.580000  304.4      304.4      303.5  \n",
              "2         304.310000  310.495769  304.4      304.4      303.5  \n",
              "3         304.281841  310.411538  304.4      304.4      303.5  \n",
              "4         304.238015  310.327308  304.4      304.4      303.5  \n",
              "\n",
              "[5 rows x 37 columns]"
            ],
            "text/html": [
              "\n",
              "  <div id=\"df-5b8c6946-e66a-4f13-9ceb-7bcd5d649fdb\">\n",
              "    <div class=\"colab-df-container\">\n",
              "      <div>\n",
              "<style scoped>\n",
              "    .dataframe tbody tr th:only-of-type {\n",
              "        vertical-align: middle;\n",
              "    }\n",
              "\n",
              "    .dataframe tbody tr th {\n",
              "        vertical-align: top;\n",
              "    }\n",
              "\n",
              "    .dataframe thead th {\n",
              "        text-align: right;\n",
              "    }\n",
              "</style>\n",
              "<table border=\"1\" class=\"dataframe\">\n",
              "  <thead>\n",
              "    <tr style=\"text-align: right;\">\n",
              "      <th></th>\n",
              "      <th>datetime</th>\n",
              "      <th>Vancouver</th>\n",
              "      <th>Portland</th>\n",
              "      <th>San Francisco</th>\n",
              "      <th>Seattle</th>\n",
              "      <th>Los Angeles</th>\n",
              "      <th>San Diego</th>\n",
              "      <th>Las Vegas</th>\n",
              "      <th>Phoenix</th>\n",
              "      <th>Albuquerque</th>\n",
              "      <th>...</th>\n",
              "      <th>Philadelphia</th>\n",
              "      <th>New York</th>\n",
              "      <th>Montreal</th>\n",
              "      <th>Boston</th>\n",
              "      <th>Beersheba</th>\n",
              "      <th>Tel Aviv District</th>\n",
              "      <th>Eilat</th>\n",
              "      <th>Haifa</th>\n",
              "      <th>Nahariyya</th>\n",
              "      <th>Jerusalem</th>\n",
              "    </tr>\n",
              "  </thead>\n",
              "  <tbody>\n",
              "    <tr>\n",
              "      <th>0</th>\n",
              "      <td>2012-10-01 12:00:00</td>\n",
              "      <td>NaN</td>\n",
              "      <td>NaN</td>\n",
              "      <td>NaN</td>\n",
              "      <td>NaN</td>\n",
              "      <td>NaN</td>\n",
              "      <td>NaN</td>\n",
              "      <td>NaN</td>\n",
              "      <td>NaN</td>\n",
              "      <td>NaN</td>\n",
              "      <td>...</td>\n",
              "      <td>NaN</td>\n",
              "      <td>NaN</td>\n",
              "      <td>NaN</td>\n",
              "      <td>NaN</td>\n",
              "      <td>NaN</td>\n",
              "      <td>NaN</td>\n",
              "      <td>309.100000</td>\n",
              "      <td>NaN</td>\n",
              "      <td>NaN</td>\n",
              "      <td>NaN</td>\n",
              "    </tr>\n",
              "    <tr>\n",
              "      <th>1</th>\n",
              "      <td>2012-10-01 13:00:00</td>\n",
              "      <td>284.630000</td>\n",
              "      <td>282.080000</td>\n",
              "      <td>289.480000</td>\n",
              "      <td>281.800000</td>\n",
              "      <td>291.870000</td>\n",
              "      <td>291.530000</td>\n",
              "      <td>293.410000</td>\n",
              "      <td>296.600000</td>\n",
              "      <td>285.120000</td>\n",
              "      <td>...</td>\n",
              "      <td>285.630000</td>\n",
              "      <td>288.220000</td>\n",
              "      <td>285.830000</td>\n",
              "      <td>287.170000</td>\n",
              "      <td>307.590000</td>\n",
              "      <td>305.470000</td>\n",
              "      <td>310.580000</td>\n",
              "      <td>304.4</td>\n",
              "      <td>304.4</td>\n",
              "      <td>303.5</td>\n",
              "    </tr>\n",
              "    <tr>\n",
              "      <th>2</th>\n",
              "      <td>2012-10-01 14:00:00</td>\n",
              "      <td>284.629041</td>\n",
              "      <td>282.083252</td>\n",
              "      <td>289.474993</td>\n",
              "      <td>281.797217</td>\n",
              "      <td>291.868186</td>\n",
              "      <td>291.533501</td>\n",
              "      <td>293.403141</td>\n",
              "      <td>296.608509</td>\n",
              "      <td>285.154558</td>\n",
              "      <td>...</td>\n",
              "      <td>285.663208</td>\n",
              "      <td>288.247676</td>\n",
              "      <td>285.834650</td>\n",
              "      <td>287.186092</td>\n",
              "      <td>307.590000</td>\n",
              "      <td>304.310000</td>\n",
              "      <td>310.495769</td>\n",
              "      <td>304.4</td>\n",
              "      <td>304.4</td>\n",
              "      <td>303.5</td>\n",
              "    </tr>\n",
              "    <tr>\n",
              "      <th>3</th>\n",
              "      <td>2012-10-01 15:00:00</td>\n",
              "      <td>284.626998</td>\n",
              "      <td>282.091866</td>\n",
              "      <td>289.460618</td>\n",
              "      <td>281.789833</td>\n",
              "      <td>291.862844</td>\n",
              "      <td>291.543355</td>\n",
              "      <td>293.392177</td>\n",
              "      <td>296.631487</td>\n",
              "      <td>285.233952</td>\n",
              "      <td>...</td>\n",
              "      <td>285.756824</td>\n",
              "      <td>288.326940</td>\n",
              "      <td>285.847790</td>\n",
              "      <td>287.231672</td>\n",
              "      <td>307.391513</td>\n",
              "      <td>304.281841</td>\n",
              "      <td>310.411538</td>\n",
              "      <td>304.4</td>\n",
              "      <td>304.4</td>\n",
              "      <td>303.5</td>\n",
              "    </tr>\n",
              "    <tr>\n",
              "      <th>4</th>\n",
              "      <td>2012-10-01 16:00:00</td>\n",
              "      <td>284.624955</td>\n",
              "      <td>282.100481</td>\n",
              "      <td>289.446243</td>\n",
              "      <td>281.782449</td>\n",
              "      <td>291.857503</td>\n",
              "      <td>291.553209</td>\n",
              "      <td>293.381213</td>\n",
              "      <td>296.654466</td>\n",
              "      <td>285.313345</td>\n",
              "      <td>...</td>\n",
              "      <td>285.850440</td>\n",
              "      <td>288.406203</td>\n",
              "      <td>285.860929</td>\n",
              "      <td>287.277251</td>\n",
              "      <td>307.145200</td>\n",
              "      <td>304.238015</td>\n",
              "      <td>310.327308</td>\n",
              "      <td>304.4</td>\n",
              "      <td>304.4</td>\n",
              "      <td>303.5</td>\n",
              "    </tr>\n",
              "  </tbody>\n",
              "</table>\n",
              "<p>5 rows × 37 columns</p>\n",
              "</div>\n",
              "      <button class=\"colab-df-convert\" onclick=\"convertToInteractive('df-5b8c6946-e66a-4f13-9ceb-7bcd5d649fdb')\"\n",
              "              title=\"Convert this dataframe to an interactive table.\"\n",
              "              style=\"display:none;\">\n",
              "        \n",
              "  <svg xmlns=\"http://www.w3.org/2000/svg\" height=\"24px\"viewBox=\"0 0 24 24\"\n",
              "       width=\"24px\">\n",
              "    <path d=\"M0 0h24v24H0V0z\" fill=\"none\"/>\n",
              "    <path d=\"M18.56 5.44l.94 2.06.94-2.06 2.06-.94-2.06-.94-.94-2.06-.94 2.06-2.06.94zm-11 1L8.5 8.5l.94-2.06 2.06-.94-2.06-.94L8.5 2.5l-.94 2.06-2.06.94zm10 10l.94 2.06.94-2.06 2.06-.94-2.06-.94-.94-2.06-.94 2.06-2.06.94z\"/><path d=\"M17.41 7.96l-1.37-1.37c-.4-.4-.92-.59-1.43-.59-.52 0-1.04.2-1.43.59L10.3 9.45l-7.72 7.72c-.78.78-.78 2.05 0 2.83L4 21.41c.39.39.9.59 1.41.59.51 0 1.02-.2 1.41-.59l7.78-7.78 2.81-2.81c.8-.78.8-2.07 0-2.86zM5.41 20L4 18.59l7.72-7.72 1.47 1.35L5.41 20z\"/>\n",
              "  </svg>\n",
              "      </button>\n",
              "      \n",
              "  <style>\n",
              "    .colab-df-container {\n",
              "      display:flex;\n",
              "      flex-wrap:wrap;\n",
              "      gap: 12px;\n",
              "    }\n",
              "\n",
              "    .colab-df-convert {\n",
              "      background-color: #E8F0FE;\n",
              "      border: none;\n",
              "      border-radius: 50%;\n",
              "      cursor: pointer;\n",
              "      display: none;\n",
              "      fill: #1967D2;\n",
              "      height: 32px;\n",
              "      padding: 0 0 0 0;\n",
              "      width: 32px;\n",
              "    }\n",
              "\n",
              "    .colab-df-convert:hover {\n",
              "      background-color: #E2EBFA;\n",
              "      box-shadow: 0px 1px 2px rgba(60, 64, 67, 0.3), 0px 1px 3px 1px rgba(60, 64, 67, 0.15);\n",
              "      fill: #174EA6;\n",
              "    }\n",
              "\n",
              "    [theme=dark] .colab-df-convert {\n",
              "      background-color: #3B4455;\n",
              "      fill: #D2E3FC;\n",
              "    }\n",
              "\n",
              "    [theme=dark] .colab-df-convert:hover {\n",
              "      background-color: #434B5C;\n",
              "      box-shadow: 0px 1px 3px 1px rgba(0, 0, 0, 0.15);\n",
              "      filter: drop-shadow(0px 1px 2px rgba(0, 0, 0, 0.3));\n",
              "      fill: #FFFFFF;\n",
              "    }\n",
              "  </style>\n",
              "\n",
              "      <script>\n",
              "        const buttonEl =\n",
              "          document.querySelector('#df-5b8c6946-e66a-4f13-9ceb-7bcd5d649fdb button.colab-df-convert');\n",
              "        buttonEl.style.display =\n",
              "          google.colab.kernel.accessAllowed ? 'block' : 'none';\n",
              "\n",
              "        async function convertToInteractive(key) {\n",
              "          const element = document.querySelector('#df-5b8c6946-e66a-4f13-9ceb-7bcd5d649fdb');\n",
              "          const dataTable =\n",
              "            await google.colab.kernel.invokeFunction('convertToInteractive',\n",
              "                                                     [key], {});\n",
              "          if (!dataTable) return;\n",
              "\n",
              "          const docLinkHtml = 'Like what you see? Visit the ' +\n",
              "            '<a target=\"_blank\" href=https://colab.research.google.com/notebooks/data_table.ipynb>data table notebook</a>'\n",
              "            + ' to learn more about interactive tables.';\n",
              "          element.innerHTML = '';\n",
              "          dataTable['output_type'] = 'display_data';\n",
              "          await google.colab.output.renderOutput(dataTable, element);\n",
              "          const docLink = document.createElement('div');\n",
              "          docLink.innerHTML = docLinkHtml;\n",
              "          element.appendChild(docLink);\n",
              "        }\n",
              "      </script>\n",
              "    </div>\n",
              "  </div>\n",
              "  "
            ]
          },
          "metadata": {},
          "execution_count": 51
        }
      ]
    },
    {
      "cell_type": "code",
      "source": [
        "# Check null value\n",
        "dataset.isnull().sum()"
      ],
      "metadata": {
        "colab": {
          "base_uri": "https://localhost:8080/"
        },
        "id": "cM42Vd6b8Nxs",
        "outputId": "94b1d0a1-3ab3-4aa8-b559-a73bbf60014a",
        "collapsed": true
      },
      "execution_count": null,
      "outputs": [
        {
          "output_type": "execute_result",
          "data": {
            "text/plain": [
              "datetime               0\n",
              "Vancouver            795\n",
              "Portland               1\n",
              "San Francisco        793\n",
              "Seattle                3\n",
              "Los Angeles            3\n",
              "San Diego              1\n",
              "Las Vegas              1\n",
              "Phoenix                3\n",
              "Albuquerque            1\n",
              "Denver                 1\n",
              "San Antonio            1\n",
              "Dallas                 4\n",
              "Houston                3\n",
              "Kansas City            1\n",
              "Minneapolis           13\n",
              "Saint Louis            1\n",
              "Chicago                3\n",
              "Nashville              2\n",
              "Indianapolis           7\n",
              "Atlanta                6\n",
              "Detroit                1\n",
              "Jacksonville           1\n",
              "Charlotte              3\n",
              "Miami                805\n",
              "Pittsburgh             3\n",
              "Toronto                1\n",
              "Philadelphia           3\n",
              "New York             793\n",
              "Montreal               3\n",
              "Boston                 3\n",
              "Beersheba            798\n",
              "Tel Aviv District    793\n",
              "Eilat                792\n",
              "Haifa                798\n",
              "Nahariyya            797\n",
              "Jerusalem            793\n",
              "dtype: int64"
            ]
          },
          "metadata": {},
          "execution_count": 52
        }
      ]
    },
    {
      "cell_type": "code",
      "source": [
        "# Drop Null Value\n",
        "dataset = dataset.dropna()\n",
        "dataset.isnull().sum()"
      ],
      "metadata": {
        "colab": {
          "base_uri": "https://localhost:8080/"
        },
        "collapsed": true,
        "id": "qjNQUF-rTUqO",
        "outputId": "a386fcd3-476e-4679-a709-2cd9ca5846ed"
      },
      "execution_count": null,
      "outputs": [
        {
          "output_type": "execute_result",
          "data": {
            "text/plain": [
              "datetime             0\n",
              "Vancouver            0\n",
              "Portland             0\n",
              "San Francisco        0\n",
              "Seattle              0\n",
              "Los Angeles          0\n",
              "San Diego            0\n",
              "Las Vegas            0\n",
              "Phoenix              0\n",
              "Albuquerque          0\n",
              "Denver               0\n",
              "San Antonio          0\n",
              "Dallas               0\n",
              "Houston              0\n",
              "Kansas City          0\n",
              "Minneapolis          0\n",
              "Saint Louis          0\n",
              "Chicago              0\n",
              "Nashville            0\n",
              "Indianapolis         0\n",
              "Atlanta              0\n",
              "Detroit              0\n",
              "Jacksonville         0\n",
              "Charlotte            0\n",
              "Miami                0\n",
              "Pittsburgh           0\n",
              "Toronto              0\n",
              "Philadelphia         0\n",
              "New York             0\n",
              "Montreal             0\n",
              "Boston               0\n",
              "Beersheba            0\n",
              "Tel Aviv District    0\n",
              "Eilat                0\n",
              "Haifa                0\n",
              "Nahariyya            0\n",
              "Jerusalem            0\n",
              "dtype: int64"
            ]
          },
          "metadata": {},
          "execution_count": 53
        }
      ]
    },
    {
      "cell_type": "code",
      "source": [
        "# Drop and Change Type DataFrame\n",
        "data_train = dataset.drop(dataset.columns.difference(['datetime', 'Boston']), 1)\n",
        "data_train = data_train.astype(({'Boston': 'float32'}))[3000:20000]\n",
        "data_train['datetime'] = pd.to_datetime(data_train['datetime'])\n",
        "data_train.info()"
      ],
      "metadata": {
        "colab": {
          "base_uri": "https://localhost:8080/"
        },
        "collapsed": true,
        "id": "APzZ_zhNz6Kq",
        "outputId": "b27b3f1f-50bd-4f6d-aba0-5f55edc8ca6b"
      },
      "execution_count": null,
      "outputs": [
        {
          "output_type": "stream",
          "name": "stdout",
          "text": [
            "<class 'pandas.core.frame.DataFrame'>\n",
            "Int64Index: 17000 entries, 3001 to 20030\n",
            "Data columns (total 2 columns):\n",
            " #   Column    Non-Null Count  Dtype         \n",
            "---  ------    --------------  -----         \n",
            " 0   datetime  17000 non-null  datetime64[ns]\n",
            " 1   Boston    17000 non-null  float32       \n",
            "dtypes: datetime64[ns](1), float32(1)\n",
            "memory usage: 332.0 KB\n"
          ]
        },
        {
          "output_type": "stream",
          "name": "stderr",
          "text": [
            "/usr/local/lib/python3.7/dist-packages/ipykernel_launcher.py:2: FutureWarning: In a future version of pandas all arguments of DataFrame.drop except for the argument 'labels' will be keyword-only\n",
            "  \n"
          ]
        }
      ]
    },
    {
      "cell_type": "code",
      "source": [
        "date = data_train['datetime'].values\n",
        "temp  = data_train['Boston'].values\n",
        "    \n",
        "    \n",
        "plt.figure(figsize=(15,5))\n",
        "plt.plot(date, temp)\n",
        "plt.title('Boston Temperature',\n",
        "            fontsize=20);"
      ],
      "metadata": {
        "colab": {
          "base_uri": "https://localhost:8080/",
          "height": 54
        },
        "id": "c4DR6Okp830L",
        "outputId": "1c6183a5-61f6-4c25-8bc4-33175b369ed3"
      },
      "execution_count": null,
      "outputs": [
        {
          "output_type": "display_data",
          "data": {
            "text/plain": [
              "<Figure size 1080x360 with 1 Axes>"
            ],
            "image/png": "[encoded data removed]"
          },
          "metadata": {
            "needs_background": "light"
          }
        }
      ]
    },
    {
      "cell_type": "markdown",
      "source": [
        "## Create Model"
      ],
      "metadata": {
        "id": "TmwF4Ws85O8q"
      }
    },
    {
      "cell_type": "code",
      "source": [
        "# Normalize Dataset\n",
        "scaler = MinMaxScaler()\n",
        "temp_scaled = scaler.fit_transform(temp.reshape(-1,1))\n",
        "temp_scaled = temp_scaled.reshape(temp_scaled.size,)\n",
        "temp_scaled"
      ],
      "metadata": {
        "colab": {
          "base_uri": "https://localhost:8080/"
        },
        "id": "kbLogtxcFDfm",
        "outputId": "80a9b436-8461-4751-ea5e-0adb3972695a"
      },
      "execution_count": null,
      "outputs": [
        {
          "output_type": "execute_result",
          "data": {
            "text/plain": [
              "array([0.20355368, 0.20954084, 0.23252249, ..., 0.2026844 , 0.19181824,\n",
              "       0.18693829], dtype=float32)"
            ]
          },
          "metadata": {},
          "execution_count": 56
        }
      ]
    },
    {
      "cell_type": "code",
      "source": [
        "# Define MAE Threshold < 10%\n",
        "print(f'min temp : {min(temp_scaled)}\\nmax temp : {max(temp_scaled)}')\n",
        "min_MAE = (max(temp_scaled) - min(temp_scaled)) * 10/100\n",
        "print(f'\\nMinimum MAE is {min_MAE}')"
      ],
      "metadata": {
        "colab": {
          "base_uri": "https://localhost:8080/"
        },
        "collapsed": true,
        "id": "suJ-OX6iYhbb",
        "outputId": "e0df7a20-5967-4e03-aecf-87c7b49c6012"
      },
      "execution_count": null,
      "outputs": [
        {
          "output_type": "stream",
          "name": "stdout",
          "text": [
            "min temp : 0.0\n",
            "max temp : 1.0\n",
            "\n",
            "Minimum MAE is 0.1\n"
          ]
        }
      ]
    },
    {
      "cell_type": "code",
      "source": [
        "# Create Callback MAE < 10%\n",
        "class MAECallback(tf.keras.callbacks.Callback):\n",
        "  def on_epoch_end(self, epoch, logs={}):\n",
        "    if(logs.get('mae')<min_MAE):\n",
        "      print(\"\\nMAE < 10% Data Scale\")\n",
        "      self.model.stop_training = True\n",
        "MAE_callbacks = MAECallback()"
      ],
      "metadata": {
        "id": "jH-odGUf8Uyt"
      },
      "execution_count": null,
      "outputs": []
    },
    {
      "cell_type": "code",
      "source": [
        "# Create Windowing Function\n",
        "def windowed_dataset(series, window_size, batch_size, shuffle_buffer):\n",
        "    series = tf.expand_dims(series, axis=-1)\n",
        "    ds = tf.data.Dataset.from_tensor_slices(series)\n",
        "    ds = ds.window(window_size + 1, shift=1, drop_remainder=True)\n",
        "    ds = ds.flat_map(lambda w: w.batch(window_size + 1))\n",
        "    ds = ds.shuffle(shuffle_buffer)\n",
        "    ds = ds.map(lambda w: (w[:-1], w[-1:]))\n",
        "    return ds.batch(batch_size).prefetch(1)"
      ],
      "metadata": {
        "id": "fr3H6ua59DAN"
      },
      "execution_count": null,
      "outputs": []
    },
    {
      "cell_type": "code",
      "source": [
        "# Split Dataset\n",
        "x_train, x_test, y_train, y_test = train_test_split(date, temp_scaled, test_size = 0.2, shuffle = False )\n",
        "\n",
        "print(x_train.shape, x_test.shape)\n",
        "print(y_train.shape, y_test.shape)"
      ],
      "metadata": {
        "colab": {
          "base_uri": "https://localhost:8080/"
        },
        "id": "oUP1Gzl99ZxP",
        "outputId": "991bdb3e-a9a8-4a4e-d16e-01e7d71ee6bc"
      },
      "execution_count": null,
      "outputs": [
        {
          "output_type": "stream",
          "name": "stdout",
          "text": [
            "(13600,) (3400,)\n",
            "(13600,) (3400,)\n"
          ]
        }
      ]
    },
    {
      "cell_type": "code",
      "source": [
        "# Create Model\n",
        "train_set = windowed_dataset(y_train, window_size=60, batch_size=100, shuffle_buffer=5000)\n",
        "val_set = windowed_dataset(y_test, window_size=60, batch_size=100, shuffle_buffer=5000)\n",
        "\n",
        "model = tf.keras.models.Sequential([\n",
        "    tf.keras.layers.LSTM(10, return_sequences=True),\n",
        "    tf.keras.layers.LSTM(10),\n",
        "    tf.keras.layers.Dropout(0.6),\n",
        "    tf.keras.layers.Dense(8, activation=\"relu\"),\n",
        "    tf.keras.layers.Dense(1),\n",
        "])"
      ],
      "metadata": {
        "id": "V2NPoilP9XJn"
      },
      "execution_count": null,
      "outputs": []
    },
    {
      "cell_type": "code",
      "source": [
        "# Compile Model\n",
        "optimizer = tf.keras.optimizers.SGD(1.0000e-04, 0.9)\n",
        "model.compile(loss='huber_loss',\n",
        "                optimizer=optimizer,\n",
        "                metrics=[\"mae\"])"
      ],
      "metadata": {
        "id": "1d8mMKAJZvm2"
      },
      "execution_count": null,
      "outputs": []
    },
    {
      "cell_type": "code",
      "source": [
        "history = model.fit(train_set, epochs=200, validation_data = val_set, \n",
        "                    callbacks=[MAE_callbacks])"
      ],
      "metadata": {
        "colab": {
          "base_uri": "https://localhost:8080/"
        },
        "id": "vQpYja5v_Rd_",
        "outputId": "cd8be4a1-bb47-4bb7-9bcc-899eebc7669d"
      },
      "execution_count": null,
      "outputs": [
        {
          "output_type": "stream",
          "name": "stdout",
          "text": [
            "Epoch 1/200\n",
            "136/136 [==============================] - 25s 127ms/step - loss: 0.0813 - mae: 0.3546 - val_loss: 0.0332 - val_mae: 0.2296\n",
            "Epoch 2/200\n",
            "136/136 [==============================] - 12s 79ms/step - loss: 0.0384 - mae: 0.2221 - val_loss: 0.0134 - val_mae: 0.1353\n",
            "Epoch 3/200\n",
            "136/136 [==============================] - 9s 64ms/step - loss: 0.0296 - mae: 0.1939 - val_loss: 0.0090 - val_mae: 0.1113\n",
            "Epoch 4/200\n",
            "136/136 [==============================] - 9s 64ms/step - loss: 0.0273 - mae: 0.1873 - val_loss: 0.0078 - val_mae: 0.1036\n",
            "Epoch 5/200\n",
            "136/136 [==============================] - 10s 65ms/step - loss: 0.0250 - mae: 0.1798 - val_loss: 0.0074 - val_mae: 0.1006\n",
            "Epoch 6/200\n",
            "136/136 [==============================] - 11s 72ms/step - loss: 0.0237 - mae: 0.1751 - val_loss: 0.0071 - val_mae: 0.0989\n",
            "Epoch 7/200\n",
            "136/136 [==============================] - 10s 65ms/step - loss: 0.0223 - mae: 0.1702 - val_loss: 0.0069 - val_mae: 0.0976\n",
            "Epoch 8/200\n",
            "136/136 [==============================] - 10s 64ms/step - loss: 0.0213 - mae: 0.1663 - val_loss: 0.0068 - val_mae: 0.0967\n",
            "Epoch 9/200\n",
            "136/136 [==============================] - 10s 65ms/step - loss: 0.0207 - mae: 0.1644 - val_loss: 0.0067 - val_mae: 0.0960\n",
            "Epoch 10/200\n",
            "136/136 [==============================] - 9s 64ms/step - loss: 0.0198 - mae: 0.1604 - val_loss: 0.0066 - val_mae: 0.0949\n",
            "Epoch 11/200\n",
            "136/136 [==============================] - 10s 70ms/step - loss: 0.0194 - mae: 0.1590 - val_loss: 0.0065 - val_mae: 0.0939\n",
            "Epoch 12/200\n",
            "136/136 [==============================] - 10s 65ms/step - loss: 0.0185 - mae: 0.1550 - val_loss: 0.0064 - val_mae: 0.0933\n",
            "Epoch 13/200\n",
            "136/136 [==============================] - 10s 65ms/step - loss: 0.0180 - mae: 0.1540 - val_loss: 0.0063 - val_mae: 0.0924\n",
            "Epoch 14/200\n",
            "136/136 [==============================] - 11s 72ms/step - loss: 0.0175 - mae: 0.1513 - val_loss: 0.0062 - val_mae: 0.0917\n",
            "Epoch 15/200\n",
            "136/136 [==============================] - 9s 63ms/step - loss: 0.0170 - mae: 0.1492 - val_loss: 0.0061 - val_mae: 0.0910\n",
            "Epoch 16/200\n",
            "136/136 [==============================] - 9s 64ms/step - loss: 0.0167 - mae: 0.1481 - val_loss: 0.0060 - val_mae: 0.0900\n",
            "Epoch 17/200\n",
            "136/136 [==============================] - 9s 64ms/step - loss: 0.0161 - mae: 0.1453 - val_loss: 0.0059 - val_mae: 0.0893\n",
            "Epoch 18/200\n",
            "136/136 [==============================] - 9s 63ms/step - loss: 0.0157 - mae: 0.1437 - val_loss: 0.0058 - val_mae: 0.0885\n",
            "Epoch 19/200\n",
            "136/136 [==============================] - 9s 63ms/step - loss: 0.0152 - mae: 0.1413 - val_loss: 0.0057 - val_mae: 0.0879\n",
            "Epoch 20/200\n",
            "136/136 [==============================] - 9s 64ms/step - loss: 0.0150 - mae: 0.1401 - val_loss: 0.0056 - val_mae: 0.0872\n",
            "Epoch 21/200\n",
            "136/136 [==============================] - 9s 64ms/step - loss: 0.0146 - mae: 0.1387 - val_loss: 0.0055 - val_mae: 0.0864\n",
            "Epoch 22/200\n",
            "136/136 [==============================] - 10s 71ms/step - loss: 0.0145 - mae: 0.1388 - val_loss: 0.0054 - val_mae: 0.0856\n",
            "Epoch 23/200\n",
            "136/136 [==============================] - 10s 64ms/step - loss: 0.0141 - mae: 0.1356 - val_loss: 0.0054 - val_mae: 0.0848\n",
            "Epoch 24/200\n",
            "136/136 [==============================] - 10s 65ms/step - loss: 0.0138 - mae: 0.1348 - val_loss: 0.0053 - val_mae: 0.0839\n",
            "Epoch 25/200\n",
            "136/136 [==============================] - 9s 64ms/step - loss: 0.0133 - mae: 0.1321 - val_loss: 0.0052 - val_mae: 0.0832\n",
            "Epoch 26/200\n",
            "136/136 [==============================] - 9s 63ms/step - loss: 0.0132 - mae: 0.1318 - val_loss: 0.0051 - val_mae: 0.0826\n",
            "Epoch 27/200\n",
            "136/136 [==============================] - 9s 64ms/step - loss: 0.0128 - mae: 0.1301 - val_loss: 0.0050 - val_mae: 0.0818\n",
            "Epoch 28/200\n",
            "136/136 [==============================] - 9s 64ms/step - loss: 0.0126 - mae: 0.1287 - val_loss: 0.0049 - val_mae: 0.0808\n",
            "Epoch 29/200\n",
            "136/136 [==============================] - 9s 64ms/step - loss: 0.0123 - mae: 0.1272 - val_loss: 0.0048 - val_mae: 0.0801\n",
            "Epoch 30/200\n",
            "136/136 [==============================] - 10s 70ms/step - loss: 0.0122 - mae: 0.1272 - val_loss: 0.0047 - val_mae: 0.0793\n",
            "Epoch 31/200\n",
            "136/136 [==============================] - 9s 64ms/step - loss: 0.0118 - mae: 0.1250 - val_loss: 0.0046 - val_mae: 0.0786\n",
            "Epoch 32/200\n",
            "136/136 [==============================] - 10s 65ms/step - loss: 0.0116 - mae: 0.1235 - val_loss: 0.0046 - val_mae: 0.0778\n",
            "Epoch 33/200\n",
            "136/136 [==============================] - 10s 65ms/step - loss: 0.0114 - mae: 0.1224 - val_loss: 0.0045 - val_mae: 0.0770\n",
            "Epoch 34/200\n",
            "136/136 [==============================] - 10s 65ms/step - loss: 0.0112 - mae: 0.1209 - val_loss: 0.0044 - val_mae: 0.0762\n",
            "Epoch 35/200\n",
            "136/136 [==============================] - 9s 64ms/step - loss: 0.0111 - mae: 0.1200 - val_loss: 0.0043 - val_mae: 0.0755\n",
            "Epoch 36/200\n",
            "136/136 [==============================] - 9s 64ms/step - loss: 0.0109 - mae: 0.1196 - val_loss: 0.0042 - val_mae: 0.0747\n",
            "Epoch 37/200\n",
            "136/136 [==============================] - 9s 64ms/step - loss: 0.0106 - mae: 0.1178 - val_loss: 0.0041 - val_mae: 0.0740\n",
            "Epoch 38/200\n",
            "136/136 [==============================] - 10s 65ms/step - loss: 0.0105 - mae: 0.1169 - val_loss: 0.0041 - val_mae: 0.0732\n",
            "Epoch 39/200\n",
            "136/136 [==============================] - 11s 72ms/step - loss: 0.0104 - mae: 0.1160 - val_loss: 0.0040 - val_mae: 0.0725\n",
            "Epoch 40/200\n",
            "136/136 [==============================] - 9s 64ms/step - loss: 0.0103 - mae: 0.1156 - val_loss: 0.0039 - val_mae: 0.0718\n",
            "Epoch 41/200\n",
            "136/136 [==============================] - 9s 64ms/step - loss: 0.0100 - mae: 0.1144 - val_loss: 0.0038 - val_mae: 0.0711\n",
            "Epoch 42/200\n",
            "136/136 [==============================] - 10s 65ms/step - loss: 0.0099 - mae: 0.1134 - val_loss: 0.0038 - val_mae: 0.0704\n",
            "Epoch 43/200\n",
            "136/136 [==============================] - 9s 63ms/step - loss: 0.0099 - mae: 0.1135 - val_loss: 0.0037 - val_mae: 0.0697\n",
            "Epoch 44/200\n",
            "136/136 [==============================] - 10s 64ms/step - loss: 0.0096 - mae: 0.1118 - val_loss: 0.0036 - val_mae: 0.0691\n",
            "Epoch 45/200\n",
            "136/136 [==============================] - 9s 64ms/step - loss: 0.0096 - mae: 0.1115 - val_loss: 0.0036 - val_mae: 0.0684\n",
            "Epoch 46/200\n",
            "136/136 [==============================] - 10s 65ms/step - loss: 0.0096 - mae: 0.1112 - val_loss: 0.0035 - val_mae: 0.0678\n",
            "Epoch 47/200\n",
            "136/136 [==============================] - 10s 71ms/step - loss: 0.0093 - mae: 0.1096 - val_loss: 0.0035 - val_mae: 0.0672\n",
            "Epoch 48/200\n",
            "136/136 [==============================] - 10s 64ms/step - loss: 0.0093 - mae: 0.1096 - val_loss: 0.0034 - val_mae: 0.0666\n",
            "Epoch 49/200\n",
            "136/136 [==============================] - 10s 65ms/step - loss: 0.0092 - mae: 0.1089 - val_loss: 0.0033 - val_mae: 0.0660\n",
            "Epoch 50/200\n",
            "136/136 [==============================] - 9s 64ms/step - loss: 0.0091 - mae: 0.1085 - val_loss: 0.0033 - val_mae: 0.0654\n",
            "Epoch 51/200\n",
            "136/136 [==============================] - 10s 65ms/step - loss: 0.0091 - mae: 0.1081 - val_loss: 0.0032 - val_mae: 0.0649\n",
            "Epoch 52/200\n",
            "136/136 [==============================] - 9s 64ms/step - loss: 0.0089 - mae: 0.1072 - val_loss: 0.0032 - val_mae: 0.0643\n",
            "Epoch 53/200\n",
            "136/136 [==============================] - 9s 64ms/step - loss: 0.0088 - mae: 0.1058 - val_loss: 0.0031 - val_mae: 0.0637\n",
            "Epoch 54/200\n",
            "136/136 [==============================] - 9s 64ms/step - loss: 0.0087 - mae: 0.1059 - val_loss: 0.0031 - val_mae: 0.0632\n",
            "Epoch 55/200\n",
            "136/136 [==============================] - 11s 72ms/step - loss: 0.0086 - mae: 0.1053 - val_loss: 0.0030 - val_mae: 0.0628\n",
            "Epoch 56/200\n",
            "136/136 [==============================] - 10s 65ms/step - loss: 0.0085 - mae: 0.1044 - val_loss: 0.0030 - val_mae: 0.0621\n",
            "Epoch 57/200\n",
            "136/136 [==============================] - 10s 66ms/step - loss: 0.0086 - mae: 0.1050 - val_loss: 0.0029 - val_mae: 0.0616\n",
            "Epoch 58/200\n",
            "136/136 [==============================] - 9s 64ms/step - loss: 0.0084 - mae: 0.1035 - val_loss: 0.0029 - val_mae: 0.0610\n",
            "Epoch 59/200\n",
            "136/136 [==============================] - 10s 66ms/step - loss: 0.0085 - mae: 0.1036 - val_loss: 0.0029 - val_mae: 0.0607\n",
            "Epoch 60/200\n",
            "136/136 [==============================] - 10s 65ms/step - loss: 0.0083 - mae: 0.1030 - val_loss: 0.0028 - val_mae: 0.0602\n",
            "Epoch 61/200\n",
            "136/136 [==============================] - 10s 66ms/step - loss: 0.0081 - mae: 0.1018 - val_loss: 0.0028 - val_mae: 0.0598\n",
            "Epoch 62/200\n",
            "136/136 [==============================] - 9s 64ms/step - loss: 0.0082 - mae: 0.1026 - val_loss: 0.0027 - val_mae: 0.0592\n",
            "Epoch 63/200\n",
            "136/136 [==============================] - 10s 65ms/step - loss: 0.0080 - mae: 0.1013 - val_loss: 0.0027 - val_mae: 0.0589\n",
            "Epoch 64/200\n",
            "136/136 [==============================] - 10s 71ms/step - loss: 0.0080 - mae: 0.1011 - val_loss: 0.0027 - val_mae: 0.0584\n",
            "Epoch 65/200\n",
            "136/136 [==============================] - 10s 65ms/step - loss: 0.0079 - mae: 0.1005 - val_loss: 0.0026 - val_mae: 0.0579\n",
            "Epoch 66/200\n",
            "136/136 [==============================] - 10s 66ms/step - loss: 0.0079 - mae: 0.1003 - val_loss: 0.0026 - val_mae: 0.0576\n",
            "Epoch 67/200\n",
            "136/136 [==============================] - 10s 65ms/step - loss: 0.0080 - mae: 0.1012 - val_loss: 0.0026 - val_mae: 0.0573\n",
            "Epoch 68/200\n",
            "136/136 [==============================] - 10s 65ms/step - loss: 0.0079 - mae: 0.1005 - val_loss: 0.0025 - val_mae: 0.0568\n",
            "Epoch 69/200\n",
            "136/136 [==============================] - ETA: 0s - loss: 0.0078 - mae: 0.0995\n",
            "MAE < 10% Data Scale\n",
            "136/136 [==============================] - 9s 64ms/step - loss: 0.0078 - mae: 0.0995 - val_loss: 0.0025 - val_mae: 0.0564\n"
          ]
        }
      ]
    },
    {
      "cell_type": "code",
      "source": [
        "# Make plot function\n",
        "def printPlot(label: list, title: str, legend: list, *args: str):\n",
        "    '''\n",
        "    Print plot of history\n",
        "    * label[0]  = x_label\n",
        "    * label[1]  = y_label\n",
        "    * label[n]  = n_label\n",
        "    * args[n]   = line_n\n",
        "    * legend[n]  = [location, line_n, ...]\n",
        "    '''\n",
        "    plt.style.use('dark_background')\n",
        "\n",
        "    plt.title(title)\n",
        "    plt.plot(history.history[args[0]], '#1f77b4')\n",
        "    plt.plot(history.history[args[1]], '#ff7f0e')\n",
        "    plt.xlabel(label[0])\n",
        "    plt.ylabel(label[1])\n",
        "    plt.legend(legend[1:], loc=legend[0])\n",
        "    plt.show()"
      ],
      "metadata": {
        "id": "-yqO26YRabl3"
      },
      "execution_count": null,
      "outputs": []
    },
    {
      "cell_type": "code",
      "source": [
        "# Print Plot\n",
        "printPlot(['Epoch', 'MAE'], 'Mean Average Error', \n",
        "          ['upper right', 'MAE', 'Val MAE'],\n",
        "          'mae', 'val_mae')\n",
        "printPlot(['Epoch', 'Loss'], 'Loss', \n",
        "          ['upper right', 'Loss', 'Val Loss'],\n",
        "          'loss', 'val_loss')"
      ],
      "metadata": {
        "colab": {
          "base_uri": "https://localhost:8080/",
          "height": 573
        },
        "id": "WABaXVy7qvu0",
        "outputId": "3b3b3bbd-9ae3-4c31-c82d-7a53997fa51d"
      },
      "execution_count": null,
      "outputs": [
        {
          "output_type": "display_data",
          "data": {
            "text/plain": [
              "<Figure size 432x288 with 1 Axes>"
            ],
            "image/png": "[encoded data removed]"
          },
          "metadata": {}
        },
        {
          "output_type": "display_data",
          "data": {
            "text/plain": [
              "<Figure size 432x288 with 1 Axes>"
            ],
            "image/png": "[encoded data removed]"
          },
          "metadata": {}
        }
      ]
    }
  ]
}