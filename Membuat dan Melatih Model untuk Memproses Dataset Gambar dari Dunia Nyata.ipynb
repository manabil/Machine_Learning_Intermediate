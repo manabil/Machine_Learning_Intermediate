{
  "nbformat": 4,
  "nbformat_minor": 0,
  "metadata": {
    "colab": {
      "name": "Membuat dan Melatih Model untuk Memproses Dataset Gambar dari Dunia Nyata.ipynb",
      "provenance": [],
      "authorship_tag": "ABX9TyOWcGAUvanMWflEmrZcL8iz",
      "include_colab_link": true
    },
    "kernelspec": {
      "name": "python3",
      "display_name": "Python 3"
    },
    "language_info": {
      "name": "python"
    }
  },
  "cells": [
    {
      "cell_type": "markdown",
      "metadata": {
        "id": "view-in-github",
        "colab_type": "text"
      },
      "source": [
        "<a href=\"https://colab.research.google.com/github/manabil/Machine_Learning_Intermediate/blob/main/Membuat%20dan%20Melatih%20Model%20untuk%20Memproses%20Dataset%20Gambar%20dari%20Dunia%20Nyata.ipynb\" target=\"_parent\"><img src=\"https://colab.research.google.com/assets/colab-badge.svg\" alt=\"Open In Colab\"/></a>"
      ]
    },
    {
      "cell_type": "code",
      "execution_count": null,
      "metadata": {
        "id": "jVyTCVxhAbR8"
      },
      "outputs": [],
      "source": []
    }
  ]
}